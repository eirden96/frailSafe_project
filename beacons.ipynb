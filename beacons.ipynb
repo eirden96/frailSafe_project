{
 "cells": [
  {
   "cell_type": "code",
   "execution_count": 1,
   "metadata": {},
   "outputs": [],
   "source": [
    "import pandas as pd\n",
    "import numpy as np\n",
    "import re\n",
    "from datetime import datetime"
   ]
  },
  {
   "cell_type": "code",
   "execution_count": 2,
   "metadata": {},
   "outputs": [
    {
     "data": {
      "text/html": [
       "<div>\n",
       "<style scoped>\n",
       "    .dataframe tbody tr th:only-of-type {\n",
       "        vertical-align: middle;\n",
       "    }\n",
       "\n",
       "    .dataframe tbody tr th {\n",
       "        vertical-align: top;\n",
       "    }\n",
       "\n",
       "    .dataframe thead th {\n",
       "        text-align: right;\n",
       "    }\n",
       "</style>\n",
       "<table border=\"1\" class=\"dataframe\">\n",
       "  <thead>\n",
       "    <tr style=\"text-align: right;\">\n",
       "      <th></th>\n",
       "      <th>part_id</th>\n",
       "      <th>ts_date</th>\n",
       "      <th>ts_time</th>\n",
       "      <th>room</th>\n",
       "    </tr>\n",
       "  </thead>\n",
       "  <tbody>\n",
       "    <tr>\n",
       "      <th>0</th>\n",
       "      <td>3089</td>\n",
       "      <td>20170915</td>\n",
       "      <td>06:45:22</td>\n",
       "      <td>Kitchen</td>\n",
       "    </tr>\n",
       "    <tr>\n",
       "      <th>1</th>\n",
       "      <td>3089</td>\n",
       "      <td>20170915</td>\n",
       "      <td>06:45:33</td>\n",
       "      <td>Bedroom</td>\n",
       "    </tr>\n",
       "    <tr>\n",
       "      <th>2</th>\n",
       "      <td>3089</td>\n",
       "      <td>20170915</td>\n",
       "      <td>06:45:39</td>\n",
       "      <td>Outdoor</td>\n",
       "    </tr>\n",
       "    <tr>\n",
       "      <th>3</th>\n",
       "      <td>3089</td>\n",
       "      <td>20170915</td>\n",
       "      <td>06:45:53</td>\n",
       "      <td>Bedroom</td>\n",
       "    </tr>\n",
       "    <tr>\n",
       "      <th>4</th>\n",
       "      <td>3089</td>\n",
       "      <td>20170915</td>\n",
       "      <td>06:46:09</td>\n",
       "      <td>Outdoor</td>\n",
       "    </tr>\n",
       "  </tbody>\n",
       "</table>\n",
       "</div>"
      ],
      "text/plain": [
       "  part_id   ts_date   ts_time     room\n",
       "0    3089  20170915  06:45:22  Kitchen\n",
       "1    3089  20170915  06:45:33  Bedroom\n",
       "2    3089  20170915  06:45:39  Outdoor\n",
       "3    3089  20170915  06:45:53  Bedroom\n",
       "4    3089  20170915  06:46:09  Outdoor"
      ]
     },
     "execution_count": 2,
     "metadata": {},
     "output_type": "execute_result"
    }
   ],
   "source": [
    "beacons = pd.read_csv(\"beacons_dataset.csv\", delimiter=';')\n",
    "beacons.head()"
   ]
  },
  {
   "cell_type": "code",
   "execution_count": 3,
   "metadata": {},
   "outputs": [
    {
     "data": {
      "text/plain": [
       "part_id    object\n",
       "ts_date     int64\n",
       "ts_time    object\n",
       "room       object\n",
       "dtype: object"
      ]
     },
     "execution_count": 3,
     "metadata": {},
     "output_type": "execute_result"
    }
   ],
   "source": [
    "beacons.dtypes"
   ]
  },
  {
   "cell_type": "code",
   "execution_count": 4,
   "metadata": {},
   "outputs": [
    {
     "data": {
      "text/html": [
       "<div>\n",
       "<style scoped>\n",
       "    .dataframe tbody tr th:only-of-type {\n",
       "        vertical-align: middle;\n",
       "    }\n",
       "\n",
       "    .dataframe tbody tr th {\n",
       "        vertical-align: top;\n",
       "    }\n",
       "\n",
       "    .dataframe thead th {\n",
       "        text-align: right;\n",
       "    }\n",
       "</style>\n",
       "<table border=\"1\" class=\"dataframe\">\n",
       "  <thead>\n",
       "    <tr style=\"text-align: right;\">\n",
       "      <th></th>\n",
       "      <th>part_id</th>\n",
       "      <th>ts_date</th>\n",
       "      <th>ts_time</th>\n",
       "      <th>room</th>\n",
       "    </tr>\n",
       "  </thead>\n",
       "  <tbody>\n",
       "    <tr>\n",
       "      <th>0</th>\n",
       "      <td>3089</td>\n",
       "      <td>20170915</td>\n",
       "      <td>06:45:22</td>\n",
       "      <td>Kitchen</td>\n",
       "    </tr>\n",
       "    <tr>\n",
       "      <th>1</th>\n",
       "      <td>3089</td>\n",
       "      <td>20170915</td>\n",
       "      <td>06:45:33</td>\n",
       "      <td>Bedroom</td>\n",
       "    </tr>\n",
       "    <tr>\n",
       "      <th>2</th>\n",
       "      <td>3089</td>\n",
       "      <td>20170915</td>\n",
       "      <td>06:45:39</td>\n",
       "      <td>Outdoor</td>\n",
       "    </tr>\n",
       "    <tr>\n",
       "      <th>3</th>\n",
       "      <td>3089</td>\n",
       "      <td>20170915</td>\n",
       "      <td>06:45:53</td>\n",
       "      <td>Bedroom</td>\n",
       "    </tr>\n",
       "    <tr>\n",
       "      <th>4</th>\n",
       "      <td>3089</td>\n",
       "      <td>20170915</td>\n",
       "      <td>06:46:09</td>\n",
       "      <td>Outdoor</td>\n",
       "    </tr>\n",
       "    <tr>\n",
       "      <th>...</th>\n",
       "      <td>...</td>\n",
       "      <td>...</td>\n",
       "      <td>...</td>\n",
       "      <td>...</td>\n",
       "    </tr>\n",
       "    <tr>\n",
       "      <th>58628</th>\n",
       "      <td>2138</td>\n",
       "      <td>20181202</td>\n",
       "      <td>17:39:27</td>\n",
       "      <td>Kitchen</td>\n",
       "    </tr>\n",
       "    <tr>\n",
       "      <th>58629</th>\n",
       "      <td>2138</td>\n",
       "      <td>20181202</td>\n",
       "      <td>20:09:08</td>\n",
       "      <td>Bedroom</td>\n",
       "    </tr>\n",
       "    <tr>\n",
       "      <th>58630</th>\n",
       "      <td>2138</td>\n",
       "      <td>20181202</td>\n",
       "      <td>20:21:52</td>\n",
       "      <td>Kitchen</td>\n",
       "    </tr>\n",
       "    <tr>\n",
       "      <th>58631</th>\n",
       "      <td>2138</td>\n",
       "      <td>20181203</td>\n",
       "      <td>06:46:44</td>\n",
       "      <td>Sittingroom</td>\n",
       "    </tr>\n",
       "    <tr>\n",
       "      <th>58632</th>\n",
       "      <td>2138</td>\n",
       "      <td>20181205</td>\n",
       "      <td>10:36:16</td>\n",
       "      <td>Kitchen</td>\n",
       "    </tr>\n",
       "  </tbody>\n",
       "</table>\n",
       "<p>58633 rows × 4 columns</p>\n",
       "</div>"
      ],
      "text/plain": [
       "      part_id   ts_date   ts_time         room\n",
       "0        3089  20170915  06:45:22      Kitchen\n",
       "1        3089  20170915  06:45:33      Bedroom\n",
       "2        3089  20170915  06:45:39      Outdoor\n",
       "3        3089  20170915  06:45:53      Bedroom\n",
       "4        3089  20170915  06:46:09      Outdoor\n",
       "...       ...       ...       ...          ...\n",
       "58628    2138  20181202  17:39:27      Kitchen\n",
       "58629    2138  20181202  20:09:08      Bedroom\n",
       "58630    2138  20181202  20:21:52      Kitchen\n",
       "58631    2138  20181203  06:46:44  Sittingroom\n",
       "58632    2138  20181205  10:36:16      Kitchen\n",
       "\n",
       "[58633 rows x 4 columns]"
      ]
     },
     "execution_count": 4,
     "metadata": {},
     "output_type": "execute_result"
    }
   ],
   "source": [
    "pd.set_option(\"display.max_columns\", None)\n",
    "beacons"
   ]
  },
  {
   "cell_type": "code",
   "execution_count": 5,
   "metadata": {},
   "outputs": [
    {
     "data": {
      "text/html": [
       "<div>\n",
       "<style scoped>\n",
       "    .dataframe tbody tr th:only-of-type {\n",
       "        vertical-align: middle;\n",
       "    }\n",
       "\n",
       "    .dataframe tbody tr th {\n",
       "        vertical-align: top;\n",
       "    }\n",
       "\n",
       "    .dataframe thead th {\n",
       "        text-align: right;\n",
       "    }\n",
       "</style>\n",
       "<table border=\"1\" class=\"dataframe\">\n",
       "  <thead>\n",
       "    <tr style=\"text-align: right;\">\n",
       "      <th></th>\n",
       "      <th>part_id</th>\n",
       "      <th>ts_date</th>\n",
       "      <th>ts_time</th>\n",
       "      <th>room</th>\n",
       "      <th>is_partid_num</th>\n",
       "    </tr>\n",
       "  </thead>\n",
       "  <tbody>\n",
       "    <tr>\n",
       "      <th>0</th>\n",
       "      <td>3089</td>\n",
       "      <td>20170915</td>\n",
       "      <td>06:45:22</td>\n",
       "      <td>Kitchen</td>\n",
       "      <td>True</td>\n",
       "    </tr>\n",
       "    <tr>\n",
       "      <th>1</th>\n",
       "      <td>3089</td>\n",
       "      <td>20170915</td>\n",
       "      <td>06:45:33</td>\n",
       "      <td>Bedroom</td>\n",
       "      <td>True</td>\n",
       "    </tr>\n",
       "    <tr>\n",
       "      <th>2</th>\n",
       "      <td>3089</td>\n",
       "      <td>20170915</td>\n",
       "      <td>06:45:39</td>\n",
       "      <td>Outdoor</td>\n",
       "      <td>True</td>\n",
       "    </tr>\n",
       "    <tr>\n",
       "      <th>3</th>\n",
       "      <td>3089</td>\n",
       "      <td>20170915</td>\n",
       "      <td>06:45:53</td>\n",
       "      <td>Bedroom</td>\n",
       "      <td>True</td>\n",
       "    </tr>\n",
       "    <tr>\n",
       "      <th>4</th>\n",
       "      <td>3089</td>\n",
       "      <td>20170915</td>\n",
       "      <td>06:46:09</td>\n",
       "      <td>Outdoor</td>\n",
       "      <td>True</td>\n",
       "    </tr>\n",
       "    <tr>\n",
       "      <th>...</th>\n",
       "      <td>...</td>\n",
       "      <td>...</td>\n",
       "      <td>...</td>\n",
       "      <td>...</td>\n",
       "      <td>...</td>\n",
       "    </tr>\n",
       "    <tr>\n",
       "      <th>58628</th>\n",
       "      <td>2138</td>\n",
       "      <td>20181202</td>\n",
       "      <td>17:39:27</td>\n",
       "      <td>Kitchen</td>\n",
       "      <td>True</td>\n",
       "    </tr>\n",
       "    <tr>\n",
       "      <th>58629</th>\n",
       "      <td>2138</td>\n",
       "      <td>20181202</td>\n",
       "      <td>20:09:08</td>\n",
       "      <td>Bedroom</td>\n",
       "      <td>True</td>\n",
       "    </tr>\n",
       "    <tr>\n",
       "      <th>58630</th>\n",
       "      <td>2138</td>\n",
       "      <td>20181202</td>\n",
       "      <td>20:21:52</td>\n",
       "      <td>Kitchen</td>\n",
       "      <td>True</td>\n",
       "    </tr>\n",
       "    <tr>\n",
       "      <th>58631</th>\n",
       "      <td>2138</td>\n",
       "      <td>20181203</td>\n",
       "      <td>06:46:44</td>\n",
       "      <td>Sittingroom</td>\n",
       "      <td>True</td>\n",
       "    </tr>\n",
       "    <tr>\n",
       "      <th>58632</th>\n",
       "      <td>2138</td>\n",
       "      <td>20181205</td>\n",
       "      <td>10:36:16</td>\n",
       "      <td>Kitchen</td>\n",
       "      <td>True</td>\n",
       "    </tr>\n",
       "  </tbody>\n",
       "</table>\n",
       "<p>58633 rows × 5 columns</p>\n",
       "</div>"
      ],
      "text/plain": [
       "      part_id   ts_date   ts_time         room  is_partid_num\n",
       "0        3089  20170915  06:45:22      Kitchen           True\n",
       "1        3089  20170915  06:45:33      Bedroom           True\n",
       "2        3089  20170915  06:45:39      Outdoor           True\n",
       "3        3089  20170915  06:45:53      Bedroom           True\n",
       "4        3089  20170915  06:46:09      Outdoor           True\n",
       "...       ...       ...       ...          ...            ...\n",
       "58628    2138  20181202  17:39:27      Kitchen           True\n",
       "58629    2138  20181202  20:09:08      Bedroom           True\n",
       "58630    2138  20181202  20:21:52      Kitchen           True\n",
       "58631    2138  20181203  06:46:44  Sittingroom           True\n",
       "58632    2138  20181205  10:36:16      Kitchen           True\n",
       "\n",
       "[58633 rows x 5 columns]"
      ]
     },
     "execution_count": 5,
     "metadata": {},
     "output_type": "execute_result"
    }
   ],
   "source": [
    "beacons_correct = beacons\n",
    "beacons_correct.iloc[37].str.isdigit()\n",
    "beacons_correct[\"is_partid_num\"] = beacons_correct.part_id.str.isdigit()\n",
    "beacons_correct"
   ]
  },
  {
   "cell_type": "code",
   "execution_count": 6,
   "metadata": {},
   "outputs": [
    {
     "data": {
      "text/html": [
       "<div>\n",
       "<style scoped>\n",
       "    .dataframe tbody tr th:only-of-type {\n",
       "        vertical-align: middle;\n",
       "    }\n",
       "\n",
       "    .dataframe tbody tr th {\n",
       "        vertical-align: top;\n",
       "    }\n",
       "\n",
       "    .dataframe thead th {\n",
       "        text-align: right;\n",
       "    }\n",
       "</style>\n",
       "<table border=\"1\" class=\"dataframe\">\n",
       "  <thead>\n",
       "    <tr style=\"text-align: right;\">\n",
       "      <th></th>\n",
       "      <th>part_id</th>\n",
       "      <th>ts_date</th>\n",
       "      <th>ts_time</th>\n",
       "      <th>room</th>\n",
       "      <th>is_partid_num</th>\n",
       "    </tr>\n",
       "  </thead>\n",
       "  <tbody>\n",
       "    <tr>\n",
       "      <th>0</th>\n",
       "      <td>3089</td>\n",
       "      <td>20170915</td>\n",
       "      <td>06:45:22</td>\n",
       "      <td>Kitchen</td>\n",
       "      <td>True</td>\n",
       "    </tr>\n",
       "    <tr>\n",
       "      <th>1</th>\n",
       "      <td>3089</td>\n",
       "      <td>20170915</td>\n",
       "      <td>06:45:33</td>\n",
       "      <td>Bedroom</td>\n",
       "      <td>True</td>\n",
       "    </tr>\n",
       "    <tr>\n",
       "      <th>2</th>\n",
       "      <td>3089</td>\n",
       "      <td>20170915</td>\n",
       "      <td>06:45:39</td>\n",
       "      <td>Outdoor</td>\n",
       "      <td>True</td>\n",
       "    </tr>\n",
       "    <tr>\n",
       "      <th>3</th>\n",
       "      <td>3089</td>\n",
       "      <td>20170915</td>\n",
       "      <td>06:45:53</td>\n",
       "      <td>Bedroom</td>\n",
       "      <td>True</td>\n",
       "    </tr>\n",
       "    <tr>\n",
       "      <th>4</th>\n",
       "      <td>3089</td>\n",
       "      <td>20170915</td>\n",
       "      <td>06:46:09</td>\n",
       "      <td>Outdoor</td>\n",
       "      <td>True</td>\n",
       "    </tr>\n",
       "    <tr>\n",
       "      <th>...</th>\n",
       "      <td>...</td>\n",
       "      <td>...</td>\n",
       "      <td>...</td>\n",
       "      <td>...</td>\n",
       "      <td>...</td>\n",
       "    </tr>\n",
       "    <tr>\n",
       "      <th>58628</th>\n",
       "      <td>2138</td>\n",
       "      <td>20181202</td>\n",
       "      <td>17:39:27</td>\n",
       "      <td>Kitchen</td>\n",
       "      <td>True</td>\n",
       "    </tr>\n",
       "    <tr>\n",
       "      <th>58629</th>\n",
       "      <td>2138</td>\n",
       "      <td>20181202</td>\n",
       "      <td>20:09:08</td>\n",
       "      <td>Bedroom</td>\n",
       "      <td>True</td>\n",
       "    </tr>\n",
       "    <tr>\n",
       "      <th>58630</th>\n",
       "      <td>2138</td>\n",
       "      <td>20181202</td>\n",
       "      <td>20:21:52</td>\n",
       "      <td>Kitchen</td>\n",
       "      <td>True</td>\n",
       "    </tr>\n",
       "    <tr>\n",
       "      <th>58631</th>\n",
       "      <td>2138</td>\n",
       "      <td>20181203</td>\n",
       "      <td>06:46:44</td>\n",
       "      <td>Sittingroom</td>\n",
       "      <td>True</td>\n",
       "    </tr>\n",
       "    <tr>\n",
       "      <th>58632</th>\n",
       "      <td>2138</td>\n",
       "      <td>20181205</td>\n",
       "      <td>10:36:16</td>\n",
       "      <td>Kitchen</td>\n",
       "      <td>True</td>\n",
       "    </tr>\n",
       "  </tbody>\n",
       "</table>\n",
       "<p>46800 rows × 5 columns</p>\n",
       "</div>"
      ],
      "text/plain": [
       "      part_id   ts_date   ts_time         room  is_partid_num\n",
       "0        3089  20170915  06:45:22      Kitchen           True\n",
       "1        3089  20170915  06:45:33      Bedroom           True\n",
       "2        3089  20170915  06:45:39      Outdoor           True\n",
       "3        3089  20170915  06:45:53      Bedroom           True\n",
       "4        3089  20170915  06:46:09      Outdoor           True\n",
       "...       ...       ...       ...          ...            ...\n",
       "58628    2138  20181202  17:39:27      Kitchen           True\n",
       "58629    2138  20181202  20:09:08      Bedroom           True\n",
       "58630    2138  20181202  20:21:52      Kitchen           True\n",
       "58631    2138  20181203  06:46:44  Sittingroom           True\n",
       "58632    2138  20181205  10:36:16      Kitchen           True\n",
       "\n",
       "[46800 rows x 5 columns]"
      ]
     },
     "execution_count": 6,
     "metadata": {},
     "output_type": "execute_result"
    }
   ],
   "source": [
    "beacons_correct = beacons_correct[beacons_correct.is_partid_num == True]\n",
    "beacons_correct"
   ]
  },
  {
   "cell_type": "code",
   "execution_count": 7,
   "metadata": {},
   "outputs": [
    {
     "name": "stderr",
     "output_type": "stream",
     "text": [
      "/Library/Frameworks/Python.framework/Versions/3.9/lib/python3.9/site-packages/pandas/core/frame.py:4906: SettingWithCopyWarning: \n",
      "A value is trying to be set on a copy of a slice from a DataFrame\n",
      "\n",
      "See the caveats in the documentation: https://pandas.pydata.org/pandas-docs/stable/user_guide/indexing.html#returning-a-view-versus-a-copy\n",
      "  return super().drop(\n"
     ]
    }
   ],
   "source": [
    "beacons_correct.drop([\"is_partid_num\"], axis=1, inplace=True)"
   ]
  },
  {
   "cell_type": "code",
   "execution_count": 8,
   "metadata": {},
   "outputs": [
    {
     "name": "stderr",
     "output_type": "stream",
     "text": [
      "/Library/Frameworks/Python.framework/Versions/3.9/lib/python3.9/site-packages/pandas/util/_decorators.py:311: SettingWithCopyWarning: \n",
      "A value is trying to be set on a copy of a slice from a DataFrame\n",
      "\n",
      "See the caveats in the documentation: https://pandas.pydata.org/pandas-docs/stable/user_guide/indexing.html#returning-a-view-versus-a-copy\n",
      "  return func(*args, **kwargs)\n"
     ]
    }
   ],
   "source": [
    "beacons_correct.dropna(inplace = True)\n",
    "beacons_correct.reset_index(inplace=True)\n",
    "beacons_correct.drop([\"index\"], axis=1, inplace=True)"
   ]
  },
  {
   "cell_type": "code",
   "execution_count": 9,
   "metadata": {},
   "outputs": [
    {
     "data": {
      "text/plain": [
       "part_id    0\n",
       "ts_date    0\n",
       "ts_time    0\n",
       "room       0\n",
       "dtype: int64"
      ]
     },
     "execution_count": 9,
     "metadata": {},
     "output_type": "execute_result"
    }
   ],
   "source": [
    "beacons_correct.isnull().sum()"
   ]
  },
  {
   "cell_type": "code",
   "execution_count": 10,
   "metadata": {},
   "outputs": [
    {
     "data": {
      "text/plain": [
       "['Kitchen',\n",
       " 'Bedroom',\n",
       " 'Outdoor',\n",
       " 'Bathroom',\n",
       " 'TV',\n",
       " 'Entrance',\n",
       " 'Hall',\n",
       " 'Bathroon',\n",
       " 'Livingroom',\n",
       " 'Livingroom2',\n",
       " 'Livingroom1',\n",
       " 'Sitingroom',\n",
       " 'Kitcen',\n",
       " 'Desk',\n",
       " 'Leavingroom',\n",
       " 'Sittingroom',\n",
       " 'Office',\n",
       " 'Garage',\n",
       " 'Sittigroom',\n",
       " 'Luvingroom1',\n",
       " 'SittingRoom',\n",
       " 'LeavingRoom',\n",
       " 'LivingRoom',\n",
       " 'DinerRoom',\n",
       " 'Washroom',\n",
       " 'DiningRoom',\n",
       " 'Baghroom',\n",
       " 'SeatingRoom',\n",
       " 'LuvingRoom',\n",
       " 'Bedroom2',\n",
       " '2ndRoom',\n",
       " 'Bedroom1',\n",
       " 'ExitHall',\n",
       " 'LivingRoom2',\n",
       " 'One',\n",
       " 'Two',\n",
       " 'three',\n",
       " 'DinnerRoom',\n",
       " 'K',\n",
       " 'T',\n",
       " 'DinningRoom',\n",
       " 'Four',\n",
       " 'Box',\n",
       " 'Guard',\n",
       " 'Kithen',\n",
       " 'Kitchen2',\n",
       " 'Kitvhen',\n",
       " 'Liningroom',\n",
       " 'Storage',\n",
       " 'SittingOver',\n",
       " 'Workroom',\n",
       " 'Pantry',\n",
       " 'Bsthroom',\n",
       " 'Bathroim',\n",
       " 'Livingroon',\n",
       " 'livingroom',\n",
       " 'bedroom',\n",
       " 'kitchen',\n",
       " 'Garden',\n",
       " 'Sittinroom',\n",
       " 'Library',\n",
       " 'Kichen',\n",
       " 'Kiychen',\n",
       " 'Veranda',\n",
       " 'Bqthroom',\n",
       " 'Office1',\n",
       " 'Office2',\n",
       " 'LaundryRoom',\n",
       " 'Bedroom1st',\n",
       " 'Office1st',\n",
       " 'Bedroom-1',\n",
       " 'Bathroom-1',\n",
       " 'Office-2',\n",
       " 'LivibgRoom',\n",
       " 'Kitcheb',\n",
       " 'Living',\n",
       " 'Box-1',\n",
       " 'Leavivinroom',\n",
       " 'Laundry',\n",
       " 'Bathroom1',\n",
       " 'Chambre',\n",
       " 'Dinerroom']"
      ]
     },
     "execution_count": 10,
     "metadata": {},
     "output_type": "execute_result"
    }
   ],
   "source": [
    "rooms = list(beacons_correct.room.unique())\n",
    "rooms"
   ]
  },
  {
   "cell_type": "code",
   "execution_count": 11,
   "metadata": {},
   "outputs": [],
   "source": [
    "beacons_correct = beacons_correct.replace({r'Ki': 1, r'ki': 1, r'K': 1}, regex= True) # Kitchen\n",
    "beacons_correct = beacons_correct.replace({r'Lu': 2, r'li': 2, r'Sea': 2, r'Li': 2, r'Le': 2, r'Sit': 2, r'TV': 2, r'T': 2}, regex= True) # Living Room\n",
    "beacons_correct = beacons_correct.replace({r'Of': 3, r'De': 3, r'Wor': 3}, regex= True) # Office\n",
    "beacons_correct = beacons_correct.replace({r'Ba': 4, r'Wa': 4, r'Bst': 4, r'Bqt': 4}, regex= True) # Bathroom\n",
    "beacons_correct = beacons_correct.replace({r'Be': 5, r'be': 5, r'Cham': 5, r'2nd': 5}, regex= True) #Bedroom\n",
    "beacons_correct = beacons_correct.replace({r'Ver': 6, r'Out': 6, r'Gar': 6, r'Gua': 6}, regex= True) # Outdoor\n",
    "beacons_correct = beacons_correct.replace({r'Ent': 7, r'Hall': 7}, regex= True) # Hall \n",
    "beacons_correct = beacons_correct.replace({r'Din': 8}, regex= True) # Dinning room\n",
    "beacons_correct = beacons_correct.replace({r'Pant': 9, r'Stor': 9}, regex= True) # Storage\n",
    "beacons_correct = beacons_correct.replace({r'Laun': 10}, regex= True) # Laundry\n",
    "beacons_correct = beacons_correct.replace({r'Box': 11}, regex= True) # Box\n"
   ]
  },
  {
   "cell_type": "code",
   "execution_count": 12,
   "metadata": {},
   "outputs": [
    {
     "data": {
      "text/plain": [
       "array([1, 5, 6, 4, 2, 7, 3, 8, 'One', 'three', 'Four', 11, 9, 10],\n",
       "      dtype=object)"
      ]
     },
     "execution_count": 12,
     "metadata": {},
     "output_type": "execute_result"
    }
   ],
   "source": [
    "beacons_correct['room'].unique()"
   ]
  },
  {
   "cell_type": "code",
   "execution_count": 13,
   "metadata": {},
   "outputs": [
    {
     "data": {
      "text/plain": [
       "array(['Kitchen', 'Bedroom', 'Outdoor', 'Bathroom', 'Livingroom', 'Hall',\n",
       "       'Office', 'Dinningroom', 'One', 'three', 'Four', 'Box', 'Storage',\n",
       "       'Laundry'], dtype=object)"
      ]
     },
     "execution_count": 13,
     "metadata": {},
     "output_type": "execute_result"
    }
   ],
   "source": [
    "replace_dic = {1: 'Kitchen', 2: 'Livingroom', 3: 'Office', 4: 'Bathroom', 5: 'Bedroom', 6: 'Outdoor', 7: 'Hall', 8: 'Dinningroom', 9: 'Storage', 10: 'Laundry', 11: 'Box' }\n",
    "\n",
    "beacons_correct = beacons_correct.replace(replace_dic)\n",
    "beacons_correct['room'].unique()\n"
   ]
  },
  {
   "cell_type": "code",
   "execution_count": 14,
   "metadata": {},
   "outputs": [
    {
     "data": {
      "text/html": [
       "<div>\n",
       "<style scoped>\n",
       "    .dataframe tbody tr th:only-of-type {\n",
       "        vertical-align: middle;\n",
       "    }\n",
       "\n",
       "    .dataframe tbody tr th {\n",
       "        vertical-align: top;\n",
       "    }\n",
       "\n",
       "    .dataframe thead th {\n",
       "        text-align: right;\n",
       "    }\n",
       "</style>\n",
       "<table border=\"1\" class=\"dataframe\">\n",
       "  <thead>\n",
       "    <tr style=\"text-align: right;\">\n",
       "      <th></th>\n",
       "      <th>part_id</th>\n",
       "      <th>Bedroom</th>\n",
       "      <th>Bathroom</th>\n",
       "      <th>Kitchen</th>\n",
       "      <th>Livingroom</th>\n",
       "    </tr>\n",
       "  </thead>\n",
       "  <tbody>\n",
       "    <tr>\n",
       "      <th>64</th>\n",
       "      <td>1001</td>\n",
       "      <td>NaN</td>\n",
       "      <td>NaN</td>\n",
       "      <td>NaN</td>\n",
       "      <td>NaN</td>\n",
       "    </tr>\n",
       "    <tr>\n",
       "      <th>3</th>\n",
       "      <td>1003</td>\n",
       "      <td>NaN</td>\n",
       "      <td>NaN</td>\n",
       "      <td>NaN</td>\n",
       "      <td>NaN</td>\n",
       "    </tr>\n",
       "    <tr>\n",
       "      <th>211</th>\n",
       "      <td>1005</td>\n",
       "      <td>NaN</td>\n",
       "      <td>NaN</td>\n",
       "      <td>NaN</td>\n",
       "      <td>NaN</td>\n",
       "    </tr>\n",
       "    <tr>\n",
       "      <th>174</th>\n",
       "      <td>1006</td>\n",
       "      <td>NaN</td>\n",
       "      <td>NaN</td>\n",
       "      <td>NaN</td>\n",
       "      <td>NaN</td>\n",
       "    </tr>\n",
       "    <tr>\n",
       "      <th>175</th>\n",
       "      <td>1007</td>\n",
       "      <td>NaN</td>\n",
       "      <td>NaN</td>\n",
       "      <td>NaN</td>\n",
       "      <td>NaN</td>\n",
       "    </tr>\n",
       "  </tbody>\n",
       "</table>\n",
       "</div>"
      ],
      "text/plain": [
       "    part_id Bedroom Bathroom Kitchen Livingroom\n",
       "64     1001     NaN      NaN     NaN        NaN\n",
       "3      1003     NaN      NaN     NaN        NaN\n",
       "211    1005     NaN      NaN     NaN        NaN\n",
       "174    1006     NaN      NaN     NaN        NaN\n",
       "175    1007     NaN      NaN     NaN        NaN"
      ]
     },
     "execution_count": 14,
     "metadata": {},
     "output_type": "execute_result"
    }
   ],
   "source": [
    "column_names = ['part_id', 'Bedroom', 'Bathroom', 'Kitchen', 'Livingroom']\n",
    "beacons_room_time = pd.DataFrame(columns = column_names)\n",
    "beacons_room_time['part_id'] = pd.DataFrame(beacons_correct['part_id'].unique())\n",
    "beacons_room_time.sort_values('part_id', inplace=True)\n",
    "beacons_room_time.head(5)"
   ]
  },
  {
   "cell_type": "code",
   "execution_count": 15,
   "metadata": {},
   "outputs": [
    {
     "data": {
      "text/html": [
       "<div>\n",
       "<style scoped>\n",
       "    .dataframe tbody tr th:only-of-type {\n",
       "        vertical-align: middle;\n",
       "    }\n",
       "\n",
       "    .dataframe tbody tr th {\n",
       "        vertical-align: top;\n",
       "    }\n",
       "\n",
       "    .dataframe thead th {\n",
       "        text-align: right;\n",
       "    }\n",
       "</style>\n",
       "<table border=\"1\" class=\"dataframe\">\n",
       "  <thead>\n",
       "    <tr style=\"text-align: right;\">\n",
       "      <th></th>\n",
       "      <th>part_id</th>\n",
       "      <th>ts_date</th>\n",
       "      <th>ts_time</th>\n",
       "      <th>room</th>\n",
       "    </tr>\n",
       "  </thead>\n",
       "  <tbody>\n",
       "    <tr>\n",
       "      <th>0</th>\n",
       "      <td>1001</td>\n",
       "      <td>20171021</td>\n",
       "      <td>14:45:30</td>\n",
       "      <td>Outdoor</td>\n",
       "    </tr>\n",
       "    <tr>\n",
       "      <th>1</th>\n",
       "      <td>1001</td>\n",
       "      <td>20171101</td>\n",
       "      <td>14:07:11</td>\n",
       "      <td>Livingroom</td>\n",
       "    </tr>\n",
       "    <tr>\n",
       "      <th>2</th>\n",
       "      <td>1001</td>\n",
       "      <td>20171107</td>\n",
       "      <td>15:37:59</td>\n",
       "      <td>Livingroom</td>\n",
       "    </tr>\n",
       "    <tr>\n",
       "      <th>3</th>\n",
       "      <td>1001</td>\n",
       "      <td>20171117</td>\n",
       "      <td>15:52:46</td>\n",
       "      <td>Livingroom</td>\n",
       "    </tr>\n",
       "    <tr>\n",
       "      <th>4</th>\n",
       "      <td>1001</td>\n",
       "      <td>20171117</td>\n",
       "      <td>15:52:58</td>\n",
       "      <td>Bathroom</td>\n",
       "    </tr>\n",
       "  </tbody>\n",
       "</table>\n",
       "</div>"
      ],
      "text/plain": [
       "  part_id   ts_date   ts_time        room\n",
       "0    1001  20171021  14:45:30     Outdoor\n",
       "1    1001  20171101  14:07:11  Livingroom\n",
       "2    1001  20171107  15:37:59  Livingroom\n",
       "3    1001  20171117  15:52:46  Livingroom\n",
       "4    1001  20171117  15:52:58    Bathroom"
      ]
     },
     "execution_count": 15,
     "metadata": {},
     "output_type": "execute_result"
    }
   ],
   "source": [
    "pd.set_option(\"display.max_rows\", None, \"display.max_columns\", None)\n",
    "beacons_correct = beacons_correct.sort_values(by= ['part_id', 'ts_date', 'ts_time'], ignore_index= True)\n",
    "beacons_correct.head(5)"
   ]
  },
  {
   "cell_type": "code",
   "execution_count": 16,
   "metadata": {},
   "outputs": [],
   "source": [
    "# dict1 = beacons_correct['room'].unique()\n",
    "# dict1 = dict1[~np.isnan(dict1)]\n",
    "# dict2 = dict.fromkeys(dict1, 0)\n",
    "# dict2"
   ]
  },
  {
   "cell_type": "code",
   "execution_count": 43,
   "metadata": {},
   "outputs": [
    {
     "ename": "KeyError",
     "evalue": "'B'",
     "output_type": "error",
     "traceback": [
      "\u001b[0;31m---------------------------------------------------------------------------\u001b[0m",
      "\u001b[0;31mKeyError\u001b[0m                                  Traceback (most recent call last)",
      "\u001b[0;32m/var/folders/p3/0hxxs9qj1dg_s5vjw8zddyw40000gn/T/ipykernel_3803/4273539091.py\u001b[0m in \u001b[0;36m<module>\u001b[0;34m\u001b[0m\n\u001b[1;32m     24\u001b[0m     \u001b[0;32mfor\u001b[0m \u001b[0mcol\u001b[0m \u001b[0;32min\u001b[0m \u001b[0mbeacons_room_time\u001b[0m\u001b[0;34m.\u001b[0m\u001b[0mloc\u001b[0m\u001b[0;34m[\u001b[0m\u001b[0;34m:\u001b[0m\u001b[0;34m,\u001b[0m \u001b[0mbeacons_room_time\u001b[0m\u001b[0;34m.\u001b[0m\u001b[0mcolumns\u001b[0m \u001b[0;34m!=\u001b[0m \u001b[0;34m'part_id'\u001b[0m\u001b[0;34m]\u001b[0m\u001b[0;34m:\u001b[0m\u001b[0;34m\u001b[0m\u001b[0;34m\u001b[0m\u001b[0m\n\u001b[1;32m     25\u001b[0m         \u001b[0;32mif\u001b[0m \u001b[0mtotal_time\u001b[0m \u001b[0;34m!=\u001b[0m \u001b[0;36m0\u001b[0m\u001b[0;34m:\u001b[0m\u001b[0;34m\u001b[0m\u001b[0;34m\u001b[0m\u001b[0m\n\u001b[0;32m---> 26\u001b[0;31m             \u001b[0mbeacons_room_time\u001b[0m\u001b[0;34m[\u001b[0m\u001b[0mcol\u001b[0m\u001b[0;34m[\u001b[0m\u001b[0mj\u001b[0m\u001b[0;34m]\u001b[0m\u001b[0;34m]\u001b[0m \u001b[0;34m=\u001b[0m \u001b[0mroom_dict\u001b[0m\u001b[0;34m[\u001b[0m\u001b[0mcol\u001b[0m\u001b[0;34m]\u001b[0m\u001b[0;34m/\u001b[0m\u001b[0mtotal_time\u001b[0m\u001b[0;34m\u001b[0m\u001b[0;34m\u001b[0m\u001b[0m\n\u001b[0m\u001b[1;32m     27\u001b[0m     \u001b[0mj\u001b[0m\u001b[0;34m=\u001b[0m\u001b[0mj\u001b[0m\u001b[0;34m+\u001b[0m\u001b[0;36m1\u001b[0m\u001b[0;34m\u001b[0m\u001b[0;34m\u001b[0m\u001b[0m\n",
      "\u001b[0;31mKeyError\u001b[0m: 'B'"
     ]
    }
   ],
   "source": [
    "i = 1\n",
    "j = 0\n",
    "\n",
    "for idx in beacons_room_time['part_id']:\n",
    "    # create room dictionary\n",
    "    flag = True\n",
    "    room_dict = {'Kitchen': 0, 'Livingroom': 0, 'Office': 0, 'Bathroom': 0, 'Bedroom': 0, 'Outdoor': 0, 'Hall': 0, 'Dinningroom': 0, 'Storage': 0, 'Laundry': 0, 'Box': 0, 'One': 0, 'three': 0, 'Four': 0}  \n",
    "    while flag:\n",
    "        # compute difference\n",
    "        if beacons_correct['ts_date'][i-1] == beacons_correct['ts_date'][i] or pd.to_numeric(beacons_correct['ts_date'][i-1]) + 1 == pd.to_numeric(beacons_correct['ts_date'] [i]) : \n",
    "            time_dif = abs((datetime.strptime('{} {}'.format(beacons_correct['ts_date'][i] , beacons_correct['ts_time'][i]), '%Y%m%d %H:%M:%S') - datetime.strptime('{} {}'.format(beacons_correct['ts_date'][i-1] , beacons_correct['ts_time'][i-1]), '%Y%m%d %H:%M:%S')).total_seconds())\n",
    "            room = beacons_correct['room'][i-1]\n",
    "            room_dict[room] +=  time_dif\n",
    "        if idx != beacons_correct['part_id'][i]:\n",
    "            flag = False\n",
    "            # print(idx, beacons_correct['part_id'][i+1])     \n",
    "        i = i + 1\n",
    "        # BREAK WHEN I = 46794\n",
    "    total_time = sum(room_dict.values())\n",
    "    #print(total_time)\n",
    "    \n",
    "    \n",
    "    # add % to beacons room time \n",
    "    for col in beacons_room_time.loc[:, beacons_room_time.columns != 'part_id']:\n",
    "        if total_time != 0: \n",
    "            beacons_room_time[col[j]] = room_dict[col]/total_time \n",
    "    j=j+1       \n"
   ]
  },
  {
   "cell_type": "code",
   "execution_count": 40,
   "metadata": {},
   "outputs": [
    {
     "name": "stdout",
     "output_type": "stream",
     "text": [
      "    part_id   Bedroom  Bathroom   Kitchen  Livingroom\n",
      "64     1001  0.010611       0.0  0.167921    0.430047\n",
      "3      1003  0.010611       0.0  0.167921    0.430047\n",
      "211    1005  0.010611       0.0  0.167921    0.430047\n",
      "174    1006  0.010611       0.0  0.167921    0.430047\n",
      "175    1007  0.010611       0.0  0.167921    0.430047\n",
      "181    1022  0.010611       0.0  0.167921    0.430047\n",
      "182    1023  0.010611       0.0  0.167921    0.430047\n",
      "228    1030  0.010611       0.0  0.167921    0.430047\n",
      "1      1035  0.010611       0.0  0.167921    0.430047\n",
      "210    1036  0.010611       0.0  0.167921    0.430047\n",
      "200    1038  0.010611       0.0  0.167921    0.430047\n",
      "201    1039  0.010611       0.0  0.167921    0.430047\n",
      "206    1040  0.010611       0.0  0.167921    0.430047\n",
      "207    1041  0.010611       0.0  0.167921    0.430047\n",
      "213    1043  0.010611       0.0  0.167921    0.430047\n",
      "199    1044  0.010611       0.0  0.167921    0.430047\n",
      "216    1049  0.010611       0.0  0.167921    0.430047\n",
      "183    1051  0.010611       0.0  0.167921    0.430047\n",
      "231    1054  0.010611       0.0  0.167921    0.430047\n",
      "190    1055  0.010611       0.0  0.167921    0.430047\n",
      "222    1057  0.010611       0.0  0.167921    0.430047\n",
      "224    1061  0.010611       0.0  0.167921    0.430047\n",
      "225    1066  0.010611       0.0  0.167921    0.430047\n",
      "236    1068  0.010611       0.0  0.167921    0.430047\n",
      "112    1084  0.010611       0.0  0.167921    0.430047\n",
      "110    1085  0.010611       0.0  0.167921    0.430047\n",
      "84     1086  0.010611       0.0  0.167921    0.430047\n",
      "52     1088  0.010611       0.0  0.167921    0.430047\n",
      "105    1089  0.010611       0.0  0.167921    0.430047\n",
      "82     1090  0.010611       0.0  0.167921    0.430047\n",
      "87     1091  0.010611       0.0  0.167921    0.430047\n",
      "88     1092  0.010611       0.0  0.167921    0.430047\n",
      "48     1094  0.010611       0.0  0.167921    0.430047\n",
      "252    1095  0.010611       0.0  0.167921    0.430047\n",
      "107    1101  0.010611       0.0  0.167921    0.430047\n",
      "127    1103  0.010611       0.0  0.167921    0.430047\n",
      "111    1104  0.010611       0.0  0.167921    0.430047\n",
      "121    1109  0.010611       0.0  0.167921    0.430047\n",
      "120    1110  0.010611       0.0  0.167921    0.430047\n",
      "71     1111  0.010611       0.0  0.167921    0.430047\n",
      "92     1112  0.010611       0.0  0.167921    0.430047\n",
      "109    1113  0.010611       0.0  0.167921    0.430047\n",
      "122    1115  0.010611       0.0  0.167921    0.430047\n",
      "83     1117  0.010611       0.0  0.167921    0.430047\n",
      "103    1119  0.010611       0.0  0.167921    0.430047\n",
      "104    1120  0.010611       0.0  0.167921    0.430047\n",
      "263    1123  0.010611       0.0  0.167921    0.430047\n",
      "266    1124  0.010611       0.0  0.167921    0.430047\n",
      "267    1126  0.010611       0.0  0.167921    0.430047\n",
      "264    1128  0.010611       0.0  0.167921    0.430047\n",
      "275    1131  0.010611       0.0  0.167921    0.430047\n",
      "49     1191  0.010611       0.0  0.167921    0.430047\n",
      "63     1234  0.010611       0.0  0.167921    0.430047\n",
      "66      124  0.010611       0.0  0.167921    0.430047\n",
      "106    1507  0.010611       0.0  0.167921    0.430047\n",
      "189    1508  0.010611       0.0  0.167921    0.430047\n",
      "76     1509  0.010611       0.0  0.167921    0.430047\n",
      "220    1510  0.010611       0.0  0.167921    0.430047\n",
      "217    1514  0.010611       0.0  0.167921    0.430047\n",
      "70     1515  0.010611       0.0  0.167921    0.430047\n",
      "188    1518  0.010611       0.0  0.167921    0.430047\n",
      "219    1525  0.010611       0.0  0.167921    0.430047\n",
      "24     1526  0.010611       0.0  0.167921    0.430047\n",
      "250    1529  0.010611       0.0  0.167921    0.430047\n",
      "249    1548  0.010611       0.0  0.167921    0.430047\n",
      "251    1558  0.010611       0.0  0.167921    0.430047\n",
      "95     2005  0.010611       0.0  0.167921    0.430047\n",
      "93     2006  0.010611       0.0  0.167921    0.430047\n",
      "126    2012  0.010611       0.0  0.167921    0.430047\n",
      "116    2013  0.010611       0.0  0.167921    0.430047\n",
      "99     2014  0.010611       0.0  0.167921    0.430047\n",
      "129    2016  0.010611       0.0  0.167921    0.430047\n",
      "91     2017  0.010611       0.0  0.167921    0.430047\n",
      "133    2020  0.010611       0.0  0.167921    0.430047\n",
      "117    2021  0.010611       0.0  0.167921    0.430047\n",
      "158    2022  0.010611       0.0  0.167921    0.430047\n",
      "143    2024  0.010611       0.0  0.167921    0.430047\n",
      "142    2025  0.010611       0.0  0.167921    0.430047\n",
      "147    2026  0.010611       0.0  0.167921    0.430047\n",
      "96     2027  0.010611       0.0  0.167921    0.430047\n",
      "113    2029  0.010611       0.0  0.167921    0.430047\n",
      "169    2030  0.010611       0.0  0.167921    0.430047\n",
      "153    2032  0.010611       0.0  0.167921    0.430047\n",
      "168    2033  0.010611       0.0  0.167921    0.430047\n",
      "119    2035  0.010611       0.0  0.167921    0.430047\n",
      "136    2036  0.010611       0.0  0.167921    0.430047\n",
      "125    2037  0.010611       0.0  0.167921    0.430047\n",
      "139    2038  0.010611       0.0  0.167921    0.430047\n",
      "123    2039  0.010611       0.0  0.167921    0.430047\n",
      "163    2040  0.010611       0.0  0.167921    0.430047\n",
      "124    2042  0.010611       0.0  0.167921    0.430047\n",
      "130    2043  0.010611       0.0  0.167921    0.430047\n",
      "128    2044  0.010611       0.0  0.167921    0.430047\n",
      "176    2047  0.010611       0.0  0.167921    0.430047\n",
      "161    2048  0.010611       0.0  0.167921    0.430047\n",
      "170    2049  0.010611       0.0  0.167921    0.430047\n",
      "171    2050  0.010611       0.0  0.167921    0.430047\n",
      "138    2051  0.010611       0.0  0.167921    0.430047\n",
      "137    2053  0.010611       0.0  0.167921    0.430047\n",
      "177    2054  0.010611       0.0  0.167921    0.430047\n"
     ]
    }
   ],
   "source": [
    "print(beacons_room_time.head(100))"
   ]
  },
  {
   "cell_type": "code",
   "execution_count": 27,
   "metadata": {},
   "outputs": [
    {
     "data": {
      "text/plain": [
       "part_id           3611\n",
       "ts_date       20180914\n",
       "ts_time       07:05:46\n",
       "room       Dinningroom\n",
       "Name: 46793, dtype: object"
      ]
     },
     "execution_count": 27,
     "metadata": {},
     "output_type": "execute_result"
    }
   ],
   "source": [
    "beacons_correct.iloc[len(beacons_correct)-1]"
   ]
  },
  {
   "cell_type": "code",
   "execution_count": 30,
   "metadata": {},
   "outputs": [
    {
     "data": {
      "text/plain": [
       "46794"
      ]
     },
     "execution_count": 30,
     "metadata": {},
     "output_type": "execute_result"
    }
   ],
   "source": [
    "len(beacons_correct)"
   ]
  },
  {
   "cell_type": "code",
   "execution_count": null,
   "metadata": {},
   "outputs": [
    {
     "data": {
      "text/plain": [
       "121.0"
      ]
     },
     "execution_count": 85,
     "metadata": {},
     "output_type": "execute_result"
    }
   ],
   "source": [
    "timest = beacons_correct[\"ts_time\"]\n",
    "a = datetime.strptime(timest[0], '%H:%M:%S')\n",
    "b = datetime.strptime(timest[9], '%H:%M:%S')\n",
    "c = datetime.strptime(timest[10], '%H:%M:%S')\n",
    "d = b - a\n",
    "p = d.total_seconds()\n",
    "p"
   ]
  },
  {
   "cell_type": "code",
   "execution_count": null,
   "metadata": {},
   "outputs": [
    {
     "data": {
      "text/plain": [
       "20171102"
      ]
     },
     "execution_count": 54,
     "metadata": {},
     "output_type": "execute_result"
    }
   ],
   "source": [
    "pd.to_numeric(beacons_correct['ts_date'][1]) + 1"
   ]
  },
  {
   "cell_type": "code",
   "execution_count": null,
   "metadata": {},
   "outputs": [],
   "source": []
  }
 ],
 "metadata": {
  "interpreter": {
   "hash": "916dbcbb3f70747c44a77c7bcd40155683ae19c65e1c03b4aa3499c5328201f1"
  },
  "kernelspec": {
   "display_name": "Python 3.8.2 64-bit",
   "language": "python",
   "name": "python3"
  },
  "language_info": {
   "codemirror_mode": {
    "name": "ipython",
    "version": 3
   },
   "file_extension": ".py",
   "mimetype": "text/x-python",
   "name": "python",
   "nbconvert_exporter": "python",
   "pygments_lexer": "ipython3",
   "version": "3.9.9"
  },
  "orig_nbformat": 4
 },
 "nbformat": 4,
 "nbformat_minor": 2
}
