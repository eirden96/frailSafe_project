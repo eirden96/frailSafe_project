{
 "cells": [
  {
   "cell_type": "code",
   "execution_count": 106,
   "metadata": {},
   "outputs": [],
   "source": [
    "import pandas as pd\n",
    "import numpy as np\n",
    "from datetime import datetime\n",
    "from sklearn.metrics import silhouette_score\n",
    "from sklearn import metrics\n",
    "from sklearn.decomposition import PCA\n",
    "from sklearn.metrics import confusion_matrix\n",
    "from sklearn.cluster import SpectralClustering"
   ]
  },
  {
   "cell_type": "code",
   "execution_count": 2,
   "metadata": {},
   "outputs": [
    {
     "data": {
      "text/html": [
       "<div>\n",
       "<style scoped>\n",
       "    .dataframe tbody tr th:only-of-type {\n",
       "        vertical-align: middle;\n",
       "    }\n",
       "\n",
       "    .dataframe tbody tr th {\n",
       "        vertical-align: top;\n",
       "    }\n",
       "\n",
       "    .dataframe thead th {\n",
       "        text-align: right;\n",
       "    }\n",
       "</style>\n",
       "<table border=\"1\" class=\"dataframe\">\n",
       "  <thead>\n",
       "    <tr style=\"text-align: right;\">\n",
       "      <th></th>\n",
       "      <th>part_id</th>\n",
       "      <th>ts_date</th>\n",
       "      <th>ts_time</th>\n",
       "      <th>room</th>\n",
       "    </tr>\n",
       "  </thead>\n",
       "  <tbody>\n",
       "    <tr>\n",
       "      <th>0</th>\n",
       "      <td>3089</td>\n",
       "      <td>20170915</td>\n",
       "      <td>06:45:22</td>\n",
       "      <td>Kitchen</td>\n",
       "    </tr>\n",
       "    <tr>\n",
       "      <th>1</th>\n",
       "      <td>3089</td>\n",
       "      <td>20170915</td>\n",
       "      <td>06:45:33</td>\n",
       "      <td>Bedroom</td>\n",
       "    </tr>\n",
       "    <tr>\n",
       "      <th>2</th>\n",
       "      <td>3089</td>\n",
       "      <td>20170915</td>\n",
       "      <td>06:45:39</td>\n",
       "      <td>Outdoor</td>\n",
       "    </tr>\n",
       "    <tr>\n",
       "      <th>3</th>\n",
       "      <td>3089</td>\n",
       "      <td>20170915</td>\n",
       "      <td>06:45:53</td>\n",
       "      <td>Bedroom</td>\n",
       "    </tr>\n",
       "    <tr>\n",
       "      <th>4</th>\n",
       "      <td>3089</td>\n",
       "      <td>20170915</td>\n",
       "      <td>06:46:09</td>\n",
       "      <td>Outdoor</td>\n",
       "    </tr>\n",
       "  </tbody>\n",
       "</table>\n",
       "</div>"
      ],
      "text/plain": [
       "  part_id   ts_date   ts_time     room\n",
       "0    3089  20170915  06:45:22  Kitchen\n",
       "1    3089  20170915  06:45:33  Bedroom\n",
       "2    3089  20170915  06:45:39  Outdoor\n",
       "3    3089  20170915  06:45:53  Bedroom\n",
       "4    3089  20170915  06:46:09  Outdoor"
      ]
     },
     "execution_count": 2,
     "metadata": {},
     "output_type": "execute_result"
    }
   ],
   "source": [
    "beacons = pd.read_csv(\"beacons_dataset.csv\", delimiter=';')\n",
    "beacons.head()"
   ]
  },
  {
   "cell_type": "code",
   "execution_count": 3,
   "metadata": {},
   "outputs": [
    {
     "data": {
      "text/plain": [
       "part_id    object\n",
       "ts_date     int64\n",
       "ts_time    object\n",
       "room       object\n",
       "dtype: object"
      ]
     },
     "execution_count": 3,
     "metadata": {},
     "output_type": "execute_result"
    }
   ],
   "source": [
    "beacons.dtypes"
   ]
  },
  {
   "cell_type": "code",
   "execution_count": 4,
   "metadata": {},
   "outputs": [
    {
     "data": {
      "text/html": [
       "<div>\n",
       "<style scoped>\n",
       "    .dataframe tbody tr th:only-of-type {\n",
       "        vertical-align: middle;\n",
       "    }\n",
       "\n",
       "    .dataframe tbody tr th {\n",
       "        vertical-align: top;\n",
       "    }\n",
       "\n",
       "    .dataframe thead th {\n",
       "        text-align: right;\n",
       "    }\n",
       "</style>\n",
       "<table border=\"1\" class=\"dataframe\">\n",
       "  <thead>\n",
       "    <tr style=\"text-align: right;\">\n",
       "      <th></th>\n",
       "      <th>part_id</th>\n",
       "      <th>ts_date</th>\n",
       "      <th>ts_time</th>\n",
       "      <th>room</th>\n",
       "    </tr>\n",
       "  </thead>\n",
       "  <tbody>\n",
       "    <tr>\n",
       "      <th>0</th>\n",
       "      <td>3089</td>\n",
       "      <td>20170915</td>\n",
       "      <td>06:45:22</td>\n",
       "      <td>Kitchen</td>\n",
       "    </tr>\n",
       "    <tr>\n",
       "      <th>1</th>\n",
       "      <td>3089</td>\n",
       "      <td>20170915</td>\n",
       "      <td>06:45:33</td>\n",
       "      <td>Bedroom</td>\n",
       "    </tr>\n",
       "    <tr>\n",
       "      <th>2</th>\n",
       "      <td>3089</td>\n",
       "      <td>20170915</td>\n",
       "      <td>06:45:39</td>\n",
       "      <td>Outdoor</td>\n",
       "    </tr>\n",
       "    <tr>\n",
       "      <th>3</th>\n",
       "      <td>3089</td>\n",
       "      <td>20170915</td>\n",
       "      <td>06:45:53</td>\n",
       "      <td>Bedroom</td>\n",
       "    </tr>\n",
       "    <tr>\n",
       "      <th>4</th>\n",
       "      <td>3089</td>\n",
       "      <td>20170915</td>\n",
       "      <td>06:46:09</td>\n",
       "      <td>Outdoor</td>\n",
       "    </tr>\n",
       "    <tr>\n",
       "      <th>...</th>\n",
       "      <td>...</td>\n",
       "      <td>...</td>\n",
       "      <td>...</td>\n",
       "      <td>...</td>\n",
       "    </tr>\n",
       "    <tr>\n",
       "      <th>58628</th>\n",
       "      <td>2138</td>\n",
       "      <td>20181202</td>\n",
       "      <td>17:39:27</td>\n",
       "      <td>Kitchen</td>\n",
       "    </tr>\n",
       "    <tr>\n",
       "      <th>58629</th>\n",
       "      <td>2138</td>\n",
       "      <td>20181202</td>\n",
       "      <td>20:09:08</td>\n",
       "      <td>Bedroom</td>\n",
       "    </tr>\n",
       "    <tr>\n",
       "      <th>58630</th>\n",
       "      <td>2138</td>\n",
       "      <td>20181202</td>\n",
       "      <td>20:21:52</td>\n",
       "      <td>Kitchen</td>\n",
       "    </tr>\n",
       "    <tr>\n",
       "      <th>58631</th>\n",
       "      <td>2138</td>\n",
       "      <td>20181203</td>\n",
       "      <td>06:46:44</td>\n",
       "      <td>Sittingroom</td>\n",
       "    </tr>\n",
       "    <tr>\n",
       "      <th>58632</th>\n",
       "      <td>2138</td>\n",
       "      <td>20181205</td>\n",
       "      <td>10:36:16</td>\n",
       "      <td>Kitchen</td>\n",
       "    </tr>\n",
       "  </tbody>\n",
       "</table>\n",
       "<p>58633 rows × 4 columns</p>\n",
       "</div>"
      ],
      "text/plain": [
       "      part_id   ts_date   ts_time         room\n",
       "0        3089  20170915  06:45:22      Kitchen\n",
       "1        3089  20170915  06:45:33      Bedroom\n",
       "2        3089  20170915  06:45:39      Outdoor\n",
       "3        3089  20170915  06:45:53      Bedroom\n",
       "4        3089  20170915  06:46:09      Outdoor\n",
       "...       ...       ...       ...          ...\n",
       "58628    2138  20181202  17:39:27      Kitchen\n",
       "58629    2138  20181202  20:09:08      Bedroom\n",
       "58630    2138  20181202  20:21:52      Kitchen\n",
       "58631    2138  20181203  06:46:44  Sittingroom\n",
       "58632    2138  20181205  10:36:16      Kitchen\n",
       "\n",
       "[58633 rows x 4 columns]"
      ]
     },
     "execution_count": 4,
     "metadata": {},
     "output_type": "execute_result"
    }
   ],
   "source": [
    "pd.set_option(\"display.max_columns\", None)\n",
    "beacons"
   ]
  },
  {
   "cell_type": "code",
   "execution_count": 5,
   "metadata": {},
   "outputs": [
    {
     "data": {
      "text/html": [
       "<div>\n",
       "<style scoped>\n",
       "    .dataframe tbody tr th:only-of-type {\n",
       "        vertical-align: middle;\n",
       "    }\n",
       "\n",
       "    .dataframe tbody tr th {\n",
       "        vertical-align: top;\n",
       "    }\n",
       "\n",
       "    .dataframe thead th {\n",
       "        text-align: right;\n",
       "    }\n",
       "</style>\n",
       "<table border=\"1\" class=\"dataframe\">\n",
       "  <thead>\n",
       "    <tr style=\"text-align: right;\">\n",
       "      <th></th>\n",
       "      <th>part_id</th>\n",
       "      <th>ts_date</th>\n",
       "      <th>ts_time</th>\n",
       "      <th>room</th>\n",
       "      <th>is_partid_num</th>\n",
       "    </tr>\n",
       "  </thead>\n",
       "  <tbody>\n",
       "    <tr>\n",
       "      <th>0</th>\n",
       "      <td>3089</td>\n",
       "      <td>20170915</td>\n",
       "      <td>06:45:22</td>\n",
       "      <td>Kitchen</td>\n",
       "      <td>True</td>\n",
       "    </tr>\n",
       "    <tr>\n",
       "      <th>1</th>\n",
       "      <td>3089</td>\n",
       "      <td>20170915</td>\n",
       "      <td>06:45:33</td>\n",
       "      <td>Bedroom</td>\n",
       "      <td>True</td>\n",
       "    </tr>\n",
       "    <tr>\n",
       "      <th>2</th>\n",
       "      <td>3089</td>\n",
       "      <td>20170915</td>\n",
       "      <td>06:45:39</td>\n",
       "      <td>Outdoor</td>\n",
       "      <td>True</td>\n",
       "    </tr>\n",
       "    <tr>\n",
       "      <th>3</th>\n",
       "      <td>3089</td>\n",
       "      <td>20170915</td>\n",
       "      <td>06:45:53</td>\n",
       "      <td>Bedroom</td>\n",
       "      <td>True</td>\n",
       "    </tr>\n",
       "    <tr>\n",
       "      <th>4</th>\n",
       "      <td>3089</td>\n",
       "      <td>20170915</td>\n",
       "      <td>06:46:09</td>\n",
       "      <td>Outdoor</td>\n",
       "      <td>True</td>\n",
       "    </tr>\n",
       "    <tr>\n",
       "      <th>...</th>\n",
       "      <td>...</td>\n",
       "      <td>...</td>\n",
       "      <td>...</td>\n",
       "      <td>...</td>\n",
       "      <td>...</td>\n",
       "    </tr>\n",
       "    <tr>\n",
       "      <th>58628</th>\n",
       "      <td>2138</td>\n",
       "      <td>20181202</td>\n",
       "      <td>17:39:27</td>\n",
       "      <td>Kitchen</td>\n",
       "      <td>True</td>\n",
       "    </tr>\n",
       "    <tr>\n",
       "      <th>58629</th>\n",
       "      <td>2138</td>\n",
       "      <td>20181202</td>\n",
       "      <td>20:09:08</td>\n",
       "      <td>Bedroom</td>\n",
       "      <td>True</td>\n",
       "    </tr>\n",
       "    <tr>\n",
       "      <th>58630</th>\n",
       "      <td>2138</td>\n",
       "      <td>20181202</td>\n",
       "      <td>20:21:52</td>\n",
       "      <td>Kitchen</td>\n",
       "      <td>True</td>\n",
       "    </tr>\n",
       "    <tr>\n",
       "      <th>58631</th>\n",
       "      <td>2138</td>\n",
       "      <td>20181203</td>\n",
       "      <td>06:46:44</td>\n",
       "      <td>Sittingroom</td>\n",
       "      <td>True</td>\n",
       "    </tr>\n",
       "    <tr>\n",
       "      <th>58632</th>\n",
       "      <td>2138</td>\n",
       "      <td>20181205</td>\n",
       "      <td>10:36:16</td>\n",
       "      <td>Kitchen</td>\n",
       "      <td>True</td>\n",
       "    </tr>\n",
       "  </tbody>\n",
       "</table>\n",
       "<p>58633 rows × 5 columns</p>\n",
       "</div>"
      ],
      "text/plain": [
       "      part_id   ts_date   ts_time         room  is_partid_num\n",
       "0        3089  20170915  06:45:22      Kitchen           True\n",
       "1        3089  20170915  06:45:33      Bedroom           True\n",
       "2        3089  20170915  06:45:39      Outdoor           True\n",
       "3        3089  20170915  06:45:53      Bedroom           True\n",
       "4        3089  20170915  06:46:09      Outdoor           True\n",
       "...       ...       ...       ...          ...            ...\n",
       "58628    2138  20181202  17:39:27      Kitchen           True\n",
       "58629    2138  20181202  20:09:08      Bedroom           True\n",
       "58630    2138  20181202  20:21:52      Kitchen           True\n",
       "58631    2138  20181203  06:46:44  Sittingroom           True\n",
       "58632    2138  20181205  10:36:16      Kitchen           True\n",
       "\n",
       "[58633 rows x 5 columns]"
      ]
     },
     "execution_count": 5,
     "metadata": {},
     "output_type": "execute_result"
    }
   ],
   "source": [
    "beacons_correct = beacons\n",
    "beacons_correct.iloc[37].str.isdigit()\n",
    "beacons_correct[\"is_partid_num\"] = beacons_correct.part_id.str.isdigit()\n",
    "beacons_correct"
   ]
  },
  {
   "cell_type": "code",
   "execution_count": 6,
   "metadata": {},
   "outputs": [
    {
     "data": {
      "text/html": [
       "<div>\n",
       "<style scoped>\n",
       "    .dataframe tbody tr th:only-of-type {\n",
       "        vertical-align: middle;\n",
       "    }\n",
       "\n",
       "    .dataframe tbody tr th {\n",
       "        vertical-align: top;\n",
       "    }\n",
       "\n",
       "    .dataframe thead th {\n",
       "        text-align: right;\n",
       "    }\n",
       "</style>\n",
       "<table border=\"1\" class=\"dataframe\">\n",
       "  <thead>\n",
       "    <tr style=\"text-align: right;\">\n",
       "      <th></th>\n",
       "      <th>part_id</th>\n",
       "      <th>ts_date</th>\n",
       "      <th>ts_time</th>\n",
       "      <th>room</th>\n",
       "      <th>is_partid_num</th>\n",
       "    </tr>\n",
       "  </thead>\n",
       "  <tbody>\n",
       "    <tr>\n",
       "      <th>0</th>\n",
       "      <td>3089</td>\n",
       "      <td>20170915</td>\n",
       "      <td>06:45:22</td>\n",
       "      <td>Kitchen</td>\n",
       "      <td>True</td>\n",
       "    </tr>\n",
       "    <tr>\n",
       "      <th>1</th>\n",
       "      <td>3089</td>\n",
       "      <td>20170915</td>\n",
       "      <td>06:45:33</td>\n",
       "      <td>Bedroom</td>\n",
       "      <td>True</td>\n",
       "    </tr>\n",
       "    <tr>\n",
       "      <th>2</th>\n",
       "      <td>3089</td>\n",
       "      <td>20170915</td>\n",
       "      <td>06:45:39</td>\n",
       "      <td>Outdoor</td>\n",
       "      <td>True</td>\n",
       "    </tr>\n",
       "    <tr>\n",
       "      <th>3</th>\n",
       "      <td>3089</td>\n",
       "      <td>20170915</td>\n",
       "      <td>06:45:53</td>\n",
       "      <td>Bedroom</td>\n",
       "      <td>True</td>\n",
       "    </tr>\n",
       "    <tr>\n",
       "      <th>4</th>\n",
       "      <td>3089</td>\n",
       "      <td>20170915</td>\n",
       "      <td>06:46:09</td>\n",
       "      <td>Outdoor</td>\n",
       "      <td>True</td>\n",
       "    </tr>\n",
       "    <tr>\n",
       "      <th>...</th>\n",
       "      <td>...</td>\n",
       "      <td>...</td>\n",
       "      <td>...</td>\n",
       "      <td>...</td>\n",
       "      <td>...</td>\n",
       "    </tr>\n",
       "    <tr>\n",
       "      <th>58628</th>\n",
       "      <td>2138</td>\n",
       "      <td>20181202</td>\n",
       "      <td>17:39:27</td>\n",
       "      <td>Kitchen</td>\n",
       "      <td>True</td>\n",
       "    </tr>\n",
       "    <tr>\n",
       "      <th>58629</th>\n",
       "      <td>2138</td>\n",
       "      <td>20181202</td>\n",
       "      <td>20:09:08</td>\n",
       "      <td>Bedroom</td>\n",
       "      <td>True</td>\n",
       "    </tr>\n",
       "    <tr>\n",
       "      <th>58630</th>\n",
       "      <td>2138</td>\n",
       "      <td>20181202</td>\n",
       "      <td>20:21:52</td>\n",
       "      <td>Kitchen</td>\n",
       "      <td>True</td>\n",
       "    </tr>\n",
       "    <tr>\n",
       "      <th>58631</th>\n",
       "      <td>2138</td>\n",
       "      <td>20181203</td>\n",
       "      <td>06:46:44</td>\n",
       "      <td>Sittingroom</td>\n",
       "      <td>True</td>\n",
       "    </tr>\n",
       "    <tr>\n",
       "      <th>58632</th>\n",
       "      <td>2138</td>\n",
       "      <td>20181205</td>\n",
       "      <td>10:36:16</td>\n",
       "      <td>Kitchen</td>\n",
       "      <td>True</td>\n",
       "    </tr>\n",
       "  </tbody>\n",
       "</table>\n",
       "<p>46800 rows × 5 columns</p>\n",
       "</div>"
      ],
      "text/plain": [
       "      part_id   ts_date   ts_time         room  is_partid_num\n",
       "0        3089  20170915  06:45:22      Kitchen           True\n",
       "1        3089  20170915  06:45:33      Bedroom           True\n",
       "2        3089  20170915  06:45:39      Outdoor           True\n",
       "3        3089  20170915  06:45:53      Bedroom           True\n",
       "4        3089  20170915  06:46:09      Outdoor           True\n",
       "...       ...       ...       ...          ...            ...\n",
       "58628    2138  20181202  17:39:27      Kitchen           True\n",
       "58629    2138  20181202  20:09:08      Bedroom           True\n",
       "58630    2138  20181202  20:21:52      Kitchen           True\n",
       "58631    2138  20181203  06:46:44  Sittingroom           True\n",
       "58632    2138  20181205  10:36:16      Kitchen           True\n",
       "\n",
       "[46800 rows x 5 columns]"
      ]
     },
     "execution_count": 6,
     "metadata": {},
     "output_type": "execute_result"
    }
   ],
   "source": [
    "beacons_correct = beacons_correct[beacons_correct.is_partid_num == True]\n",
    "beacons_correct"
   ]
  },
  {
   "cell_type": "code",
   "execution_count": 7,
   "metadata": {},
   "outputs": [
    {
     "name": "stderr",
     "output_type": "stream",
     "text": [
      "/Library/Frameworks/Python.framework/Versions/3.9/lib/python3.9/site-packages/pandas/core/frame.py:4906: SettingWithCopyWarning: \n",
      "A value is trying to be set on a copy of a slice from a DataFrame\n",
      "\n",
      "See the caveats in the documentation: https://pandas.pydata.org/pandas-docs/stable/user_guide/indexing.html#returning-a-view-versus-a-copy\n",
      "  return super().drop(\n"
     ]
    }
   ],
   "source": [
    "beacons_correct.drop([\"is_partid_num\"], axis=1, inplace=True)"
   ]
  },
  {
   "cell_type": "code",
   "execution_count": 8,
   "metadata": {},
   "outputs": [
    {
     "name": "stderr",
     "output_type": "stream",
     "text": [
      "/Library/Frameworks/Python.framework/Versions/3.9/lib/python3.9/site-packages/pandas/util/_decorators.py:311: SettingWithCopyWarning: \n",
      "A value is trying to be set on a copy of a slice from a DataFrame\n",
      "\n",
      "See the caveats in the documentation: https://pandas.pydata.org/pandas-docs/stable/user_guide/indexing.html#returning-a-view-versus-a-copy\n",
      "  return func(*args, **kwargs)\n"
     ]
    }
   ],
   "source": [
    "beacons_correct.dropna(inplace = True)\n",
    "beacons_correct.reset_index(inplace=True)\n",
    "beacons_correct.drop([\"index\"], axis=1, inplace=True)"
   ]
  },
  {
   "cell_type": "code",
   "execution_count": 9,
   "metadata": {},
   "outputs": [
    {
     "data": {
      "text/plain": [
       "part_id    0\n",
       "ts_date    0\n",
       "ts_time    0\n",
       "room       0\n",
       "dtype: int64"
      ]
     },
     "execution_count": 9,
     "metadata": {},
     "output_type": "execute_result"
    }
   ],
   "source": [
    "beacons_correct.isnull().sum()"
   ]
  },
  {
   "cell_type": "code",
   "execution_count": 10,
   "metadata": {},
   "outputs": [],
   "source": [
    "beacons_correct = beacons_correct.replace({r'Ki': 1, r'ki': 1, r'K': 1}, regex= True) # Kitchen\n",
    "beacons_correct = beacons_correct.replace({r'Lu': 2, r'li': 2, r'Sea': 2, r'Li': 2, r'Le': 2, r'Sit': 2, r'TV': 2, r'T': 2}, regex= True) # Living Room\n",
    "beacons_correct = beacons_correct.replace({r'Of': 3, r'De': 3, r'Wor': 3}, regex= True) # Office\n",
    "beacons_correct = beacons_correct.replace({r'Ba': 4, r'Wa': 4, r'Bst': 4, r'Bqt': 4}, regex= True) # Bathroom\n",
    "beacons_correct = beacons_correct.replace({r'Be': 5, r'be': 5, r'Cham': 5, r'2nd': 5}, regex= True) #Bedroom\n",
    "beacons_correct = beacons_correct.replace({r'Ver': 6, r'Out': 6, r'Gar': 6, r'Gua': 6}, regex= True) # Outdoor\n",
    "beacons_correct = beacons_correct.replace({r'Ent': 7, r'Hall': 7}, regex= True) # Hall \n",
    "beacons_correct = beacons_correct.replace({r'Din': 8}, regex= True) # Dinning room\n",
    "beacons_correct = beacons_correct.replace({r'Pant': 9, r'Stor': 9}, regex= True) # Storage\n",
    "beacons_correct = beacons_correct.replace({r'Laun': 10}, regex= True) # Laundry\n",
    "beacons_correct = beacons_correct.replace({r'Box': 11}, regex= True) # Box\n"
   ]
  },
  {
   "cell_type": "code",
   "execution_count": 11,
   "metadata": {},
   "outputs": [
    {
     "data": {
      "text/plain": [
       "array([1, 5, 6, 4, 2, 7, 3, 8, 'One', 'three', 'Four', 11, 9, 10],\n",
       "      dtype=object)"
      ]
     },
     "execution_count": 11,
     "metadata": {},
     "output_type": "execute_result"
    }
   ],
   "source": [
    "beacons_correct['room'].unique()"
   ]
  },
  {
   "cell_type": "code",
   "execution_count": 12,
   "metadata": {},
   "outputs": [
    {
     "data": {
      "text/plain": [
       "array(['Kitchen', 'Bedroom', 'Outdoor', 'Bathroom', 'Livingroom', 'Hall',\n",
       "       'Office', 'Dinningroom', 'One', 'three', 'Four', 'Box', 'Storage',\n",
       "       'Laundry'], dtype=object)"
      ]
     },
     "execution_count": 12,
     "metadata": {},
     "output_type": "execute_result"
    }
   ],
   "source": [
    "replace_dic = {1: 'Kitchen', 2: 'Livingroom', 3: 'Office', 4: 'Bathroom', 5: 'Bedroom', 6: 'Outdoor', 7: 'Hall', 8: 'Dinningroom', 9: 'Storage', 10: 'Laundry', 11: 'Box' }\n",
    "\n",
    "beacons_correct = beacons_correct.replace(replace_dic)\n",
    "beacons_correct['room'].unique()\n"
   ]
  },
  {
   "cell_type": "code",
   "execution_count": 13,
   "metadata": {},
   "outputs": [
    {
     "data": {
      "text/html": [
       "<div>\n",
       "<style scoped>\n",
       "    .dataframe tbody tr th:only-of-type {\n",
       "        vertical-align: middle;\n",
       "    }\n",
       "\n",
       "    .dataframe tbody tr th {\n",
       "        vertical-align: top;\n",
       "    }\n",
       "\n",
       "    .dataframe thead th {\n",
       "        text-align: right;\n",
       "    }\n",
       "</style>\n",
       "<table border=\"1\" class=\"dataframe\">\n",
       "  <thead>\n",
       "    <tr style=\"text-align: right;\">\n",
       "      <th></th>\n",
       "      <th>part_id</th>\n",
       "      <th>Bedroom</th>\n",
       "      <th>Bathroom</th>\n",
       "      <th>Kitchen</th>\n",
       "      <th>Livingroom</th>\n",
       "    </tr>\n",
       "  </thead>\n",
       "  <tbody>\n",
       "    <tr>\n",
       "      <th>64</th>\n",
       "      <td>1001</td>\n",
       "      <td>NaN</td>\n",
       "      <td>NaN</td>\n",
       "      <td>NaN</td>\n",
       "      <td>NaN</td>\n",
       "    </tr>\n",
       "    <tr>\n",
       "      <th>3</th>\n",
       "      <td>1003</td>\n",
       "      <td>NaN</td>\n",
       "      <td>NaN</td>\n",
       "      <td>NaN</td>\n",
       "      <td>NaN</td>\n",
       "    </tr>\n",
       "    <tr>\n",
       "      <th>211</th>\n",
       "      <td>1005</td>\n",
       "      <td>NaN</td>\n",
       "      <td>NaN</td>\n",
       "      <td>NaN</td>\n",
       "      <td>NaN</td>\n",
       "    </tr>\n",
       "    <tr>\n",
       "      <th>174</th>\n",
       "      <td>1006</td>\n",
       "      <td>NaN</td>\n",
       "      <td>NaN</td>\n",
       "      <td>NaN</td>\n",
       "      <td>NaN</td>\n",
       "    </tr>\n",
       "    <tr>\n",
       "      <th>175</th>\n",
       "      <td>1007</td>\n",
       "      <td>NaN</td>\n",
       "      <td>NaN</td>\n",
       "      <td>NaN</td>\n",
       "      <td>NaN</td>\n",
       "    </tr>\n",
       "  </tbody>\n",
       "</table>\n",
       "</div>"
      ],
      "text/plain": [
       "    part_id Bedroom Bathroom Kitchen Livingroom\n",
       "64     1001     NaN      NaN     NaN        NaN\n",
       "3      1003     NaN      NaN     NaN        NaN\n",
       "211    1005     NaN      NaN     NaN        NaN\n",
       "174    1006     NaN      NaN     NaN        NaN\n",
       "175    1007     NaN      NaN     NaN        NaN"
      ]
     },
     "execution_count": 13,
     "metadata": {},
     "output_type": "execute_result"
    }
   ],
   "source": [
    "column_names = ['part_id', 'Bedroom', 'Bathroom', 'Kitchen', 'Livingroom']\n",
    "beacons_room_time = pd.DataFrame(columns = column_names)\n",
    "beacons_room_time['part_id'] = pd.DataFrame(beacons_correct['part_id'].unique())\n",
    "beacons_room_time.sort_values('part_id', inplace=True)\n",
    "beacons_room_time.head(5)"
   ]
  },
  {
   "cell_type": "code",
   "execution_count": 14,
   "metadata": {},
   "outputs": [
    {
     "data": {
      "text/html": [
       "<div>\n",
       "<style scoped>\n",
       "    .dataframe tbody tr th:only-of-type {\n",
       "        vertical-align: middle;\n",
       "    }\n",
       "\n",
       "    .dataframe tbody tr th {\n",
       "        vertical-align: top;\n",
       "    }\n",
       "\n",
       "    .dataframe thead th {\n",
       "        text-align: right;\n",
       "    }\n",
       "</style>\n",
       "<table border=\"1\" class=\"dataframe\">\n",
       "  <thead>\n",
       "    <tr style=\"text-align: right;\">\n",
       "      <th></th>\n",
       "      <th>part_id</th>\n",
       "      <th>ts_date</th>\n",
       "      <th>ts_time</th>\n",
       "      <th>room</th>\n",
       "    </tr>\n",
       "  </thead>\n",
       "  <tbody>\n",
       "    <tr>\n",
       "      <th>0</th>\n",
       "      <td>1001</td>\n",
       "      <td>20171021</td>\n",
       "      <td>14:45:30</td>\n",
       "      <td>Outdoor</td>\n",
       "    </tr>\n",
       "    <tr>\n",
       "      <th>1</th>\n",
       "      <td>1001</td>\n",
       "      <td>20171101</td>\n",
       "      <td>14:07:11</td>\n",
       "      <td>Livingroom</td>\n",
       "    </tr>\n",
       "    <tr>\n",
       "      <th>2</th>\n",
       "      <td>1001</td>\n",
       "      <td>20171107</td>\n",
       "      <td>15:37:59</td>\n",
       "      <td>Livingroom</td>\n",
       "    </tr>\n",
       "    <tr>\n",
       "      <th>3</th>\n",
       "      <td>1001</td>\n",
       "      <td>20171117</td>\n",
       "      <td>15:52:46</td>\n",
       "      <td>Livingroom</td>\n",
       "    </tr>\n",
       "    <tr>\n",
       "      <th>4</th>\n",
       "      <td>1001</td>\n",
       "      <td>20171117</td>\n",
       "      <td>15:52:58</td>\n",
       "      <td>Bathroom</td>\n",
       "    </tr>\n",
       "  </tbody>\n",
       "</table>\n",
       "</div>"
      ],
      "text/plain": [
       "  part_id   ts_date   ts_time        room\n",
       "0    1001  20171021  14:45:30     Outdoor\n",
       "1    1001  20171101  14:07:11  Livingroom\n",
       "2    1001  20171107  15:37:59  Livingroom\n",
       "3    1001  20171117  15:52:46  Livingroom\n",
       "4    1001  20171117  15:52:58    Bathroom"
      ]
     },
     "execution_count": 14,
     "metadata": {},
     "output_type": "execute_result"
    }
   ],
   "source": [
    "pd.set_option(\"display.max_rows\", None, \"display.max_columns\", None)\n",
    "beacons_correct = beacons_correct.sort_values(by= ['part_id', 'ts_date', 'ts_time'], ignore_index= True)\n",
    "beacons_correct.head(5)"
   ]
  },
  {
   "cell_type": "code",
   "execution_count": 15,
   "metadata": {},
   "outputs": [],
   "source": [
    "i = 1\n",
    "j = 0\n",
    "\n",
    "for idx in beacons_room_time['part_id']:\n",
    "    # create room dictionary\n",
    "    flag = True\n",
    "    room_dict = {'Kitchen': 0, 'Livingroom': 0, 'Office': 0, 'Bathroom': 0, 'Bedroom': 0, 'Outdoor': 0, 'Hall': 0, 'Dinningroom': 0, 'Storage': 0, 'Laundry': 0, 'Box': 0, 'One': 0, 'three': 0, 'Four': 0}  \n",
    "    while flag:\n",
    "        # compute difference\n",
    "        if beacons_correct['ts_date'][i-1] == beacons_correct['ts_date'][i] or pd.to_numeric(beacons_correct['ts_date'][i-1]) + 1 == pd.to_numeric(beacons_correct['ts_date'] [i]) : \n",
    "            time_dif = abs((datetime.strptime('{} {}'.format(beacons_correct['ts_date'][i] , beacons_correct['ts_time'][i]), '%Y%m%d %H:%M:%S') - datetime.strptime('{} {}'.format(beacons_correct['ts_date'][i-1] , beacons_correct['ts_time'][i-1]), '%Y%m%d %H:%M:%S')).total_seconds())\n",
    "            room = beacons_correct['room'][i-1]\n",
    "            room_dict[room] +=  time_dif\n",
    "        if idx != beacons_correct['part_id'][i]:\n",
    "            flag = False   \n",
    "        i = i + 1\n",
    "        if i == len(beacons_correct):\n",
    "            break\n",
    "    total_time = sum(room_dict.values())\n",
    "    \n",
    "    # add % to beacons room time \n",
    "    for col in beacons_room_time.columns[beacons_room_time.columns != 'part_id']:\n",
    "        if total_time != 0: \n",
    "            beacons_room_time[col][j] = \"{:.1f}\".format((room_dict[col]/total_time) * 100)\n",
    "    j=j+1       "
   ]
  },
  {
   "cell_type": "code",
   "execution_count": 16,
   "metadata": {},
   "outputs": [
    {
     "data": {
      "text/html": [
       "<div>\n",
       "<style scoped>\n",
       "    .dataframe tbody tr th:only-of-type {\n",
       "        vertical-align: middle;\n",
       "    }\n",
       "\n",
       "    .dataframe tbody tr th {\n",
       "        vertical-align: top;\n",
       "    }\n",
       "\n",
       "    .dataframe thead th {\n",
       "        text-align: right;\n",
       "    }\n",
       "</style>\n",
       "<table border=\"1\" class=\"dataframe\">\n",
       "  <thead>\n",
       "    <tr style=\"text-align: right;\">\n",
       "      <th></th>\n",
       "      <th>part_id</th>\n",
       "      <th>Bedroom</th>\n",
       "      <th>Bathroom</th>\n",
       "      <th>Kitchen</th>\n",
       "      <th>Livingroom</th>\n",
       "    </tr>\n",
       "  </thead>\n",
       "  <tbody>\n",
       "    <tr>\n",
       "      <th>64</th>\n",
       "      <td>1001</td>\n",
       "      <td>NaN</td>\n",
       "      <td>NaN</td>\n",
       "      <td>NaN</td>\n",
       "      <td>NaN</td>\n",
       "    </tr>\n",
       "    <tr>\n",
       "      <th>3</th>\n",
       "      <td>1003</td>\n",
       "      <td>9.9</td>\n",
       "      <td>37.6</td>\n",
       "      <td>31.2</td>\n",
       "      <td>10.7</td>\n",
       "    </tr>\n",
       "    <tr>\n",
       "      <th>211</th>\n",
       "      <td>1005</td>\n",
       "      <td>1.4</td>\n",
       "      <td>10.1</td>\n",
       "      <td>42.4</td>\n",
       "      <td>0.6</td>\n",
       "    </tr>\n",
       "    <tr>\n",
       "      <th>174</th>\n",
       "      <td>1006</td>\n",
       "      <td>0.0</td>\n",
       "      <td>2.6</td>\n",
       "      <td>90.7</td>\n",
       "      <td>6.8</td>\n",
       "    </tr>\n",
       "    <tr>\n",
       "      <th>175</th>\n",
       "      <td>1007</td>\n",
       "      <td>0.0</td>\n",
       "      <td>0.0</td>\n",
       "      <td>100.0</td>\n",
       "      <td>0.0</td>\n",
       "    </tr>\n",
       "  </tbody>\n",
       "</table>\n",
       "</div>"
      ],
      "text/plain": [
       "    part_id Bedroom Bathroom Kitchen Livingroom\n",
       "64     1001     NaN      NaN     NaN        NaN\n",
       "3      1003     9.9     37.6    31.2       10.7\n",
       "211    1005     1.4     10.1    42.4        0.6\n",
       "174    1006     0.0      2.6    90.7        6.8\n",
       "175    1007     0.0      0.0   100.0        0.0"
      ]
     },
     "execution_count": 16,
     "metadata": {},
     "output_type": "execute_result"
    }
   ],
   "source": [
    "beacons_room_time.head()"
   ]
  },
  {
   "cell_type": "code",
   "execution_count": 17,
   "metadata": {},
   "outputs": [],
   "source": [
    "beacons_room_time.fillna(0.00, inplace= True)"
   ]
  },
  {
   "cell_type": "code",
   "execution_count": null,
   "metadata": {},
   "outputs": [],
   "source": [
    "beacons_room_time.to_csv('beacons_cleared.csv', index = False)"
   ]
  },
  {
   "cell_type": "code",
   "execution_count": 18,
   "metadata": {},
   "outputs": [],
   "source": [
    "beacons_room_time['part_id'] = beacons_room_time['part_id'].astype(int)"
   ]
  },
  {
   "cell_type": "code",
   "execution_count": 19,
   "metadata": {},
   "outputs": [
    {
     "data": {
      "text/html": [
       "<div>\n",
       "<style scoped>\n",
       "    .dataframe tbody tr th:only-of-type {\n",
       "        vertical-align: middle;\n",
       "    }\n",
       "\n",
       "    .dataframe tbody tr th {\n",
       "        vertical-align: top;\n",
       "    }\n",
       "\n",
       "    .dataframe thead th {\n",
       "        text-align: right;\n",
       "    }\n",
       "</style>\n",
       "<table border=\"1\" class=\"dataframe\">\n",
       "  <thead>\n",
       "    <tr style=\"text-align: right;\">\n",
       "      <th></th>\n",
       "      <th>part_id</th>\n",
       "      <th>raise_chair_time</th>\n",
       "      <th>balance_single</th>\n",
       "      <th>gait_get_up</th>\n",
       "      <th>gait_speed_4m</th>\n",
       "      <th>bmi_body_fat</th>\n",
       "      <th>cognitive_total_score</th>\n",
       "      <th>social_text</th>\n",
       "      <th>health_rate</th>\n",
       "      <th>activity_regular</th>\n",
       "      <th>fried</th>\n",
       "    </tr>\n",
       "  </thead>\n",
       "  <tbody>\n",
       "    <tr>\n",
       "      <th>0</th>\n",
       "      <td>1001</td>\n",
       "      <td>13.0</td>\n",
       "      <td>1</td>\n",
       "      <td>18.0</td>\n",
       "      <td>7.0</td>\n",
       "      <td>30.4</td>\n",
       "      <td>25.0</td>\n",
       "      <td>0.0</td>\n",
       "      <td>2</td>\n",
       "      <td>1</td>\n",
       "      <td>1</td>\n",
       "    </tr>\n",
       "    <tr>\n",
       "      <th>1</th>\n",
       "      <td>1002</td>\n",
       "      <td>16.0</td>\n",
       "      <td>1</td>\n",
       "      <td>60.0</td>\n",
       "      <td>11.0</td>\n",
       "      <td>23.4</td>\n",
       "      <td>27.0</td>\n",
       "      <td>0.0</td>\n",
       "      <td>2</td>\n",
       "      <td>1</td>\n",
       "      <td>2</td>\n",
       "    </tr>\n",
       "    <tr>\n",
       "      <th>2</th>\n",
       "      <td>1003</td>\n",
       "      <td>10.0</td>\n",
       "      <td>1</td>\n",
       "      <td>21.0</td>\n",
       "      <td>11.0</td>\n",
       "      <td>32.8</td>\n",
       "      <td>26.0</td>\n",
       "      <td>10.0</td>\n",
       "      <td>3</td>\n",
       "      <td>0</td>\n",
       "      <td>2</td>\n",
       "    </tr>\n",
       "    <tr>\n",
       "      <th>3</th>\n",
       "      <td>1004</td>\n",
       "      <td>3.0</td>\n",
       "      <td>0</td>\n",
       "      <td>24.7</td>\n",
       "      <td>14.3</td>\n",
       "      <td>24.5</td>\n",
       "      <td>23.0</td>\n",
       "      <td>0.0</td>\n",
       "      <td>2</td>\n",
       "      <td>0</td>\n",
       "      <td>0</td>\n",
       "    </tr>\n",
       "    <tr>\n",
       "      <th>4</th>\n",
       "      <td>1005</td>\n",
       "      <td>13.0</td>\n",
       "      <td>0</td>\n",
       "      <td>42.0</td>\n",
       "      <td>8.0</td>\n",
       "      <td>29.6</td>\n",
       "      <td>24.0</td>\n",
       "      <td>0.0</td>\n",
       "      <td>2</td>\n",
       "      <td>2</td>\n",
       "      <td>2</td>\n",
       "    </tr>\n",
       "  </tbody>\n",
       "</table>\n",
       "</div>"
      ],
      "text/plain": [
       "   part_id  raise_chair_time  balance_single  gait_get_up  gait_speed_4m  \\\n",
       "0     1001              13.0               1         18.0            7.0   \n",
       "1     1002              16.0               1         60.0           11.0   \n",
       "2     1003              10.0               1         21.0           11.0   \n",
       "3     1004               3.0               0         24.7           14.3   \n",
       "4     1005              13.0               0         42.0            8.0   \n",
       "\n",
       "   bmi_body_fat  cognitive_total_score  social_text  health_rate  \\\n",
       "0          30.4                   25.0          0.0            2   \n",
       "1          23.4                   27.0          0.0            2   \n",
       "2          32.8                   26.0         10.0            3   \n",
       "3          24.5                   23.0          0.0            2   \n",
       "4          29.6                   24.0          0.0            2   \n",
       "\n",
       "   activity_regular  fried  \n",
       "0                 1      1  \n",
       "1                 1      2  \n",
       "2                 0      2  \n",
       "3                 0      0  \n",
       "4                 2      2  "
      ]
     },
     "execution_count": 19,
     "metadata": {},
     "output_type": "execute_result"
    }
   ],
   "source": [
    "clinical = pd.read_csv('final_clinical_data.csv', delimiter= ',')\n",
    "clinical['part_id'] = clinical['part_id'].astype(int)\n",
    "clinical.head()\n"
   ]
  },
  {
   "cell_type": "code",
   "execution_count": 20,
   "metadata": {},
   "outputs": [
    {
     "data": {
      "text/html": [
       "<div>\n",
       "<style scoped>\n",
       "    .dataframe tbody tr th:only-of-type {\n",
       "        vertical-align: middle;\n",
       "    }\n",
       "\n",
       "    .dataframe tbody tr th {\n",
       "        vertical-align: top;\n",
       "    }\n",
       "\n",
       "    .dataframe thead th {\n",
       "        text-align: right;\n",
       "    }\n",
       "</style>\n",
       "<table border=\"1\" class=\"dataframe\">\n",
       "  <thead>\n",
       "    <tr style=\"text-align: right;\">\n",
       "      <th></th>\n",
       "      <th>part_id</th>\n",
       "      <th>Bedroom</th>\n",
       "      <th>Bathroom</th>\n",
       "      <th>Kitchen</th>\n",
       "      <th>Livingroom</th>\n",
       "      <th>raise_chair_time</th>\n",
       "      <th>balance_single</th>\n",
       "      <th>gait_get_up</th>\n",
       "      <th>gait_speed_4m</th>\n",
       "      <th>bmi_body_fat</th>\n",
       "      <th>cognitive_total_score</th>\n",
       "      <th>social_text</th>\n",
       "      <th>health_rate</th>\n",
       "      <th>activity_regular</th>\n",
       "      <th>fried</th>\n",
       "    </tr>\n",
       "  </thead>\n",
       "  <tbody>\n",
       "    <tr>\n",
       "      <th>0</th>\n",
       "      <td>1001</td>\n",
       "      <td>0.0</td>\n",
       "      <td>0.0</td>\n",
       "      <td>0.0</td>\n",
       "      <td>0.0</td>\n",
       "      <td>13.0</td>\n",
       "      <td>1.0</td>\n",
       "      <td>18.0</td>\n",
       "      <td>7.0</td>\n",
       "      <td>30.4</td>\n",
       "      <td>25.0</td>\n",
       "      <td>0.0</td>\n",
       "      <td>2.0</td>\n",
       "      <td>1.0</td>\n",
       "      <td>1.0</td>\n",
       "    </tr>\n",
       "    <tr>\n",
       "      <th>1</th>\n",
       "      <td>1003</td>\n",
       "      <td>9.9</td>\n",
       "      <td>37.6</td>\n",
       "      <td>31.2</td>\n",
       "      <td>10.7</td>\n",
       "      <td>10.0</td>\n",
       "      <td>1.0</td>\n",
       "      <td>21.0</td>\n",
       "      <td>11.0</td>\n",
       "      <td>32.8</td>\n",
       "      <td>26.0</td>\n",
       "      <td>10.0</td>\n",
       "      <td>3.0</td>\n",
       "      <td>0.0</td>\n",
       "      <td>2.0</td>\n",
       "    </tr>\n",
       "    <tr>\n",
       "      <th>2</th>\n",
       "      <td>1005</td>\n",
       "      <td>1.4</td>\n",
       "      <td>10.1</td>\n",
       "      <td>42.4</td>\n",
       "      <td>0.6</td>\n",
       "      <td>13.0</td>\n",
       "      <td>0.0</td>\n",
       "      <td>42.0</td>\n",
       "      <td>8.0</td>\n",
       "      <td>29.6</td>\n",
       "      <td>24.0</td>\n",
       "      <td>0.0</td>\n",
       "      <td>2.0</td>\n",
       "      <td>2.0</td>\n",
       "      <td>2.0</td>\n",
       "    </tr>\n",
       "    <tr>\n",
       "      <th>3</th>\n",
       "      <td>1006</td>\n",
       "      <td>0.0</td>\n",
       "      <td>2.6</td>\n",
       "      <td>90.7</td>\n",
       "      <td>6.8</td>\n",
       "      <td>12.0</td>\n",
       "      <td>1.0</td>\n",
       "      <td>18.0</td>\n",
       "      <td>6.0</td>\n",
       "      <td>23.4</td>\n",
       "      <td>26.0</td>\n",
       "      <td>21.0</td>\n",
       "      <td>4.0</td>\n",
       "      <td>1.0</td>\n",
       "      <td>1.0</td>\n",
       "    </tr>\n",
       "    <tr>\n",
       "      <th>4</th>\n",
       "      <td>1007</td>\n",
       "      <td>0.0</td>\n",
       "      <td>0.0</td>\n",
       "      <td>100.0</td>\n",
       "      <td>0.0</td>\n",
       "      <td>10.0</td>\n",
       "      <td>1.0</td>\n",
       "      <td>13.0</td>\n",
       "      <td>3.0</td>\n",
       "      <td>29.4</td>\n",
       "      <td>26.0</td>\n",
       "      <td>0.0</td>\n",
       "      <td>3.0</td>\n",
       "      <td>1.0</td>\n",
       "      <td>1.0</td>\n",
       "    </tr>\n",
       "  </tbody>\n",
       "</table>\n",
       "</div>"
      ],
      "text/plain": [
       "   part_id Bedroom Bathroom Kitchen Livingroom  raise_chair_time  \\\n",
       "0     1001     0.0      0.0     0.0        0.0              13.0   \n",
       "1     1003     9.9     37.6    31.2       10.7              10.0   \n",
       "2     1005     1.4     10.1    42.4        0.6              13.0   \n",
       "3     1006     0.0      2.6    90.7        6.8              12.0   \n",
       "4     1007     0.0      0.0   100.0        0.0              10.0   \n",
       "\n",
       "   balance_single  gait_get_up  gait_speed_4m  bmi_body_fat  \\\n",
       "0             1.0         18.0            7.0          30.4   \n",
       "1             1.0         21.0           11.0          32.8   \n",
       "2             0.0         42.0            8.0          29.6   \n",
       "3             1.0         18.0            6.0          23.4   \n",
       "4             1.0         13.0            3.0          29.4   \n",
       "\n",
       "   cognitive_total_score  social_text  health_rate  activity_regular  fried  \n",
       "0                   25.0          0.0          2.0               1.0    1.0  \n",
       "1                   26.0         10.0          3.0               0.0    2.0  \n",
       "2                   24.0          0.0          2.0               2.0    2.0  \n",
       "3                   26.0         21.0          4.0               1.0    1.0  \n",
       "4                   26.0          0.0          3.0               1.0    1.0  "
      ]
     },
     "execution_count": 20,
     "metadata": {},
     "output_type": "execute_result"
    }
   ],
   "source": [
    "merged_dataset = pd.merge(left=beacons_room_time, right=clinical, how='left', left_on='part_id', right_on='part_id')\n",
    "merged_dataset.dropna(inplace= True)\n",
    "merged_dataset.head()"
   ]
  },
  {
   "cell_type": "code",
   "execution_count": 76,
   "metadata": {},
   "outputs": [],
   "source": [
    "df = pd.read_csv('clinical_full.csv', delimiter=',')\n",
    "df_merged = pd.merge(left=beacons_room_time, right=df, how='left', left_on='part_id', right_on='part_id')\n",
    "df_merged.dropna(inplace= True)"
   ]
  },
  {
   "cell_type": "code",
   "execution_count": null,
   "metadata": {},
   "outputs": [],
   "source": [
    "merged_dataset.to_csv('merged_dataset.csv', index = False)"
   ]
  },
  {
   "cell_type": "code",
   "execution_count": 35,
   "metadata": {},
   "outputs": [],
   "source": [
    "from sklearn.cluster import KMeans\n",
    "from sklearn.preprocessing import MinMaxScaler\n",
    "import matplotlib.pyplot as plt\n",
    "from sklearn.model_selection import train_test_split\n",
    "from sklearn.decomposition import PCA"
   ]
  },
  {
   "cell_type": "code",
   "execution_count": 22,
   "metadata": {},
   "outputs": [],
   "source": [
    "X = merged_dataset[list(merged_dataset.columns)]\n",
    "y = merged_dataset['fried']\n",
    "X.drop(['fried', 'part_id'], inplace = True, axis = 1)"
   ]
  },
  {
   "cell_type": "code",
   "execution_count": 23,
   "metadata": {},
   "outputs": [],
   "source": [
    "scaler = MinMaxScaler()\n",
    "merged_dataset_scaled = scaler.fit_transform(merged_dataset)"
   ]
  },
  {
   "cell_type": "code",
   "execution_count": 24,
   "metadata": {},
   "outputs": [
    {
     "data": {
      "text/plain": [
       "part_id                    int64\n",
       "Bedroom                   object\n",
       "Bathroom                  object\n",
       "Kitchen                   object\n",
       "Livingroom                object\n",
       "raise_chair_time         float64\n",
       "balance_single           float64\n",
       "gait_get_up              float64\n",
       "gait_speed_4m            float64\n",
       "bmi_body_fat             float64\n",
       "cognitive_total_score    float64\n",
       "social_text              float64\n",
       "health_rate              float64\n",
       "activity_regular         float64\n",
       "fried                    float64\n",
       "dtype: object"
      ]
     },
     "execution_count": 24,
     "metadata": {},
     "output_type": "execute_result"
    }
   ],
   "source": [
    "merged_dataset.dtypes"
   ]
  },
  {
   "cell_type": "code",
   "execution_count": 25,
   "metadata": {},
   "outputs": [],
   "source": [
    "X = X.astype(float)\n",
    "X = X.to_numpy()"
   ]
  },
  {
   "cell_type": "code",
   "execution_count": 26,
   "metadata": {},
   "outputs": [],
   "source": [
    "#Getting unique labels\n",
    "kmeans = KMeans(n_clusters=3)\n",
    "kmeans.fit(X)\n",
    "y_kmeans = kmeans.predict(X)"
   ]
  },
  {
   "cell_type": "code",
   "execution_count": 27,
   "metadata": {},
   "outputs": [
    {
     "data": {
      "text/plain": [
       "<matplotlib.collections.PathCollection at 0x7fe288bc5c70>"
      ]
     },
     "execution_count": 27,
     "metadata": {},
     "output_type": "execute_result"
    },
    {
     "data": {
      "image/png": "[encoded data removed]",
      "text/plain": [
       "<Figure size 432x288 with 1 Axes>"
      ]
     },
     "metadata": {
      "needs_background": "light"
     },
     "output_type": "display_data"
    }
   ],
   "source": [
    "plt.scatter(X[:, 2], X[:, 3], c=y_kmeans, s=50, cmap='viridis')\n",
    "\n",
    "centers = kmeans.cluster_centers_\n",
    "plt.scatter(centers[:, 2], centers[:, 3], c='red', s=200, alpha=0.5)"
   ]
  },
  {
   "cell_type": "code",
   "execution_count": 28,
   "metadata": {},
   "outputs": [
    {
     "data": {
      "text/plain": [
       "<matplotlib.collections.PathCollection at 0x7fe288cd5550>"
      ]
     },
     "execution_count": 28,
     "metadata": {},
     "output_type": "execute_result"
    },
    {
     "data": {
      "image/png": "[encoded data removed]",
      "text/plain": [
       "<Figure size 432x288 with 1 Axes>"
      ]
     },
     "metadata": {
      "needs_background": "light"
     },
     "output_type": "display_data"
    }
   ],
   "source": [
    "plt.scatter(X[:, 2], X[:, 3], c=y, s=50, cmap='viridis')"
   ]
  },
  {
   "cell_type": "code",
   "execution_count": 29,
   "metadata": {},
   "outputs": [
    {
     "data": {
      "image/png": "[encoded data removed]",
      "text/plain": [
       "<Figure size 432x288 with 1 Axes>"
      ]
     },
     "metadata": {
      "needs_background": "light"
     },
     "output_type": "display_data"
    }
   ],
   "source": [
    "from sklearn.metrics import confusion_matrix\n",
    "\n",
    "cm = confusion_matrix(y, y_kmeans)\n",
    "\n",
    "plt.imshow(cm, interpolation= 'none', cmap='Blues')\n",
    "\n",
    "for (i,j), z in np.ndenumerate(cm):\n",
    "    plt.text(j,i,z, ha ='center', va='center')\n",
    "plt.xlabel('Kmeans')\n",
    "plt.ylabel('Ground truth')\n",
    "plt.show()    "
   ]
  },
  {
   "cell_type": "code",
   "execution_count": 30,
   "metadata": {},
   "outputs": [
    {
     "data": {
      "text/plain": [
       "0.28713426967081007"
      ]
     },
     "execution_count": 30,
     "metadata": {},
     "output_type": "execute_result"
    }
   ],
   "source": [
    "silhouette_score(X, y_kmeans)"
   ]
  },
  {
   "cell_type": "code",
   "execution_count": 112,
   "metadata": {},
   "outputs": [],
   "source": [
    "clg = SpectralClustering(n_clusters= 3, assign_labels=\"discretize\", affinity = \"nearest_neighbors\", n_neighbors= 20).fit(X)"
   ]
  },
  {
   "cell_type": "code",
   "execution_count": 113,
   "metadata": {},
   "outputs": [
    {
     "data": {
      "image/png": "[encoded data removed]",
      "text/plain": [
       "<Figure size 432x288 with 1 Axes>"
      ]
     },
     "metadata": {
      "needs_background": "light"
     },
     "output_type": "display_data"
    }
   ],
   "source": [
    "cm = confusion_matrix(y, clg.labels_)\n",
    "\n",
    "plt.imshow(cm, interpolation= 'none', cmap='Blues')\n",
    "\n",
    "for (i,j), z in np.ndenumerate(cm):\n",
    "    plt.text(j,i,z, ha ='center', va='center')\n",
    "plt.xlabel('Kmeans')\n",
    "plt.ylabel('Ground truth')\n",
    "plt.show()   "
   ]
  },
  {
   "cell_type": "code",
   "execution_count": 114,
   "metadata": {},
   "outputs": [
    {
     "data": {
      "text/plain": [
       "0.2773193449305788"
      ]
     },
     "execution_count": 114,
     "metadata": {},
     "output_type": "execute_result"
    }
   ],
   "source": [
    "silhouette_score(X, clg.labels_)"
   ]
  },
  {
   "cell_type": "code",
   "execution_count": 66,
   "metadata": {},
   "outputs": [],
   "source": [
    "pca = PCA(n_components=1)\n",
    "X_pca = pca.fit_transform(X)"
   ]
  },
  {
   "cell_type": "code",
   "execution_count": 67,
   "metadata": {},
   "outputs": [],
   "source": [
    "kmeans_pca = KMeans(n_clusters=3)\n",
    "kmeans_pca.fit(X_pca)\n",
    "y_kmeans_pca = kmeans_pca.predict(X_pca)"
   ]
  },
  {
   "cell_type": "code",
   "execution_count": 68,
   "metadata": {},
   "outputs": [
    {
     "data": {
      "image/png": "[encoded data removed]",
      "text/plain": [
       "<Figure size 432x288 with 1 Axes>"
      ]
     },
     "metadata": {
      "needs_background": "light"
     },
     "output_type": "display_data"
    }
   ],
   "source": [
    "cm = confusion_matrix(y, y_kmeans_pca)\n",
    "\n",
    "plt.imshow(cm, interpolation= 'none', cmap='Blues')\n",
    "\n",
    "for (i,j), z in np.ndenumerate(cm):\n",
    "    plt.text(j,i,z, ha ='center', va='center')\n",
    "plt.xlabel('Kmeans')\n",
    "plt.ylabel('Ground truth')\n",
    "plt.show()    "
   ]
  },
  {
   "cell_type": "code",
   "execution_count": 69,
   "metadata": {},
   "outputs": [
    {
     "data": {
      "text/plain": [
       "0.5970213313736014"
      ]
     },
     "execution_count": 69,
     "metadata": {},
     "output_type": "execute_result"
    }
   ],
   "source": [
    "silhouette_score(X_pca, y_kmeans_pca)"
   ]
  },
  {
   "cell_type": "code",
   "execution_count": 77,
   "metadata": {},
   "outputs": [],
   "source": [
    "X_full = df_merged[list(df_merged.columns)]\n",
    "y_full = df_merged['fried']\n",
    "X_full.drop(['fried', 'part_id'], inplace = True, axis = 1)"
   ]
  },
  {
   "cell_type": "code",
   "execution_count": 78,
   "metadata": {},
   "outputs": [],
   "source": [
    "kmeans_full = KMeans(n_clusters=3)\n",
    "kmeans_full.fit(X_full)\n",
    "y_kmeans_full = kmeans_full.predict(X_full)"
   ]
  },
  {
   "cell_type": "code",
   "execution_count": 79,
   "metadata": {},
   "outputs": [
    {
     "data": {
      "image/png": "[encoded data removed]",
      "text/plain": [
       "<Figure size 432x288 with 1 Axes>"
      ]
     },
     "metadata": {
      "needs_background": "light"
     },
     "output_type": "display_data"
    }
   ],
   "source": [
    "cm = confusion_matrix(y_full, y_kmeans_full)\n",
    "\n",
    "plt.imshow(cm, interpolation= 'none', cmap='Blues')\n",
    "\n",
    "for (i,j), z in np.ndenumerate(cm):\n",
    "    plt.text(j,i,z, ha ='center', va='center')\n",
    "plt.xlabel('Kmeans')\n",
    "plt.ylabel('Ground truth')\n",
    "plt.show()    "
   ]
  },
  {
   "cell_type": "code",
   "execution_count": 80,
   "metadata": {},
   "outputs": [
    {
     "data": {
      "text/plain": [
       "0.4007889391018367"
      ]
     },
     "execution_count": 80,
     "metadata": {},
     "output_type": "execute_result"
    }
   ],
   "source": [
    "silhouette_score(X_full, y_kmeans_full)"
   ]
  },
  {
   "cell_type": "code",
   "execution_count": 103,
   "metadata": {},
   "outputs": [],
   "source": [
    "pca_full = PCA(n_components=10)\n",
    "X_pca_full = pca_full.fit_transform(X_full)\n",
    "kmeans_pca_full = KMeans(n_clusters=3)\n",
    "kmeans_pca_full.fit(X_pca_full)\n",
    "y_kmeans_pca_full = kmeans_pca_full.predict(X_pca_full)"
   ]
  },
  {
   "cell_type": "code",
   "execution_count": 104,
   "metadata": {},
   "outputs": [
    {
     "data": {
      "image/png": "[encoded data removed]",
      "text/plain": [
       "<Figure size 432x288 with 1 Axes>"
      ]
     },
     "metadata": {
      "needs_background": "light"
     },
     "output_type": "display_data"
    }
   ],
   "source": [
    "from sklearn.metrics import confusion_matrix\n",
    "\n",
    "cm = confusion_matrix(y_full, y_kmeans_pca_full)\n",
    "\n",
    "plt.imshow(cm, interpolation= 'none', cmap='Blues')\n",
    "\n",
    "for (i,j), z in np.ndenumerate(cm):\n",
    "    plt.text(j,i,z, ha ='center', va='center')\n",
    "plt.xlabel('Kmeans')\n",
    "plt.ylabel('Ground truth')\n",
    "plt.show()    "
   ]
  },
  {
   "cell_type": "code",
   "execution_count": 105,
   "metadata": {},
   "outputs": [
    {
     "data": {
      "text/plain": [
       "0.40750673403534193"
      ]
     },
     "execution_count": 105,
     "metadata": {},
     "output_type": "execute_result"
    }
   ],
   "source": [
    "silhouette_score(X_full, y_kmeans_pca_full)"
   ]
  },
  {
   "cell_type": "code",
   "execution_count": null,
   "metadata": {},
   "outputs": [],
   "source": []
  }
 ],
 "metadata": {
  "interpreter": {
   "hash": "916dbcbb3f70747c44a77c7bcd40155683ae19c65e1c03b4aa3499c5328201f1"
  },
  "kernelspec": {
   "display_name": "Python 3.8.2 64-bit",
   "language": "python",
   "name": "python3"
  },
  "language_info": {
   "codemirror_mode": {
    "name": "ipython",
    "version": 3
   },
   "file_extension": ".py",
   "mimetype": "text/x-python",
   "name": "python",
   "nbconvert_exporter": "python",
   "pygments_lexer": "ipython3",
   "version": "3.9.9"
  },
  "orig_nbformat": 4
 },
 "nbformat": 4,
 "nbformat_minor": 2
}
